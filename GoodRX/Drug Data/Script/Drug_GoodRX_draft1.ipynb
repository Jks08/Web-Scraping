{
 "cells": [
  {
   "cell_type": "code",
   "execution_count": 1,
   "id": "4b8a263b-c45b-4f04-a324-9e3a35240579",
   "metadata": {},
   "outputs": [],
   "source": [
    "import pandas as pd\n",
    "import numpy as np\n",
    "import requests\n",
    "from bs4 import BeautifulSoup as soup\n",
    "from urllib.request import Request,urlopen\n",
    "from selenium import webdriver\n",
    "from selenium.webdriver.common.keys import Keys\n",
    "import time\n",
    "import os\n",
    "from selenium.webdriver.common.keys import Keys\n",
    "from selenium.webdriver.firefox.options import Options\n",
    "from selenium.common.exceptions import TimeoutException\n",
    "from selenium.webdriver.support.ui import WebDriverWait\n",
    "from selenium.webdriver.support import expected_conditions as EC\n",
    "from selenium.webdriver.common.by import By\n",
    "from webdriver_manager.chrome import ChromeDriverManager"
   ]
  },
  {
   "cell_type": "code",
   "execution_count": 27,
   "id": "4d3b132e-5645-419f-bc44-2fb1c53828f0",
   "metadata": {},
   "outputs": [],
   "source": [
    "df = pd.read_csv('grxlup.csv')"
   ]
  },
  {
   "cell_type": "code",
   "execution_count": 28,
   "id": "564901bc-887d-4392-a707-fb2e5d8b235b",
   "metadata": {},
   "outputs": [],
   "source": [
    "lk = df['url'] "
   ]
  },
  {
   "cell_type": "code",
   "execution_count": 29,
   "id": "06d76913-c360-43a5-a68f-0c4daf35b88a",
   "metadata": {},
   "outputs": [
    {
     "data": {
      "text/plain": [
       "0      https://www.goodrx.com/differin-gel?label_over...\n",
       "1      https://www.goodrx.com/differin?label_override...\n",
       "2      https://www.goodrx.com/adderall?label_override...\n",
       "3      https://www.goodrx.com/adderall-xr?label_overr...\n",
       "4      https://www.goodrx.com/concerta?label_override...\n",
       "                             ...                        \n",
       "255      https://www.goodrx.com/alli?label_override=alli\n",
       "256    https://www.goodrx.com/contrave?label_override...\n",
       "257    https://www.goodrx.com/qsymia?label_override=q...\n",
       "258    https://www.goodrx.com/saxenda?label_override=...\n",
       "259    https://www.goodrx.com/diflucan?label_override...\n",
       "Name: url, Length: 260, dtype: object"
      ]
     },
     "execution_count": 29,
     "metadata": {},
     "output_type": "execute_result"
    }
   ],
   "source": [
    "lk"
   ]
  },
  {
   "cell_type": "code",
   "execution_count": 30,
   "id": "a05301cc-38f4-46aa-b95a-50e31bfda053",
   "metadata": {},
   "outputs": [],
   "source": [
    "description = []\n",
    "name = []"
   ]
  },
  {
   "cell_type": "code",
   "execution_count": 31,
   "id": "ac047a09-eabc-4ad0-955f-f5321e5e6747",
   "metadata": {},
   "outputs": [
    {
     "name": "stderr",
     "output_type": "stream",
     "text": [
      "[WDM] - \n",
      "\n",
      "[WDM] - ====== WebDriver manager ======\n",
      "[WDM] - Current google-chrome version is 94.0.4606\n",
      "[WDM] - Get LATEST driver version for 94.0.4606\n",
      "[WDM] - Driver [C:\\Users\\astro\\.wdm\\drivers\\chromedriver\\win32\\94.0.4606.61\\chromedriver.exe] found in cache\n",
      "C:\\Users\\astro\\AppData\\Local\\Temp/ipykernel_3244/1627589230.py:3: DeprecationWarning: executable_path has been deprecated, please pass in a Service object\n",
      "  driver = webdriver.Chrome(ChromeDriverManager().install())\n",
      "C:\\Users\\astro\\AppData\\Local\\Temp/ipykernel_3244/1627589230.py:6: DeprecationWarning: find_elements_by_* commands are deprecated. Please use find_elements() instead\n",
      "  supClass = driver.find_elements_by_class_name('container-22AZo')\n",
      "C:\\Users\\astro\\AppData\\Roaming\\Python\\Python39\\site-packages\\selenium\\webdriver\\remote\\webelement.py:445: UserWarning: find_element_by_* commands are deprecated. Please use find_element() instead\n",
      "  warnings.warn(\"find_element_by_* commands are deprecated. Please use find_element() instead\")\n",
      "[WDM] - \n",
      "\n",
      "[WDM] - ====== WebDriver manager ======\n",
      "[WDM] - Current google-chrome version is 94.0.4606\n",
      "[WDM] - Get LATEST driver version for 94.0.4606\n",
      "[WDM] - Driver [C:\\Users\\astro\\.wdm\\drivers\\chromedriver\\win32\\94.0.4606.61\\chromedriver.exe] found in cache\n",
      "[WDM] - \n",
      "\n",
      "[WDM] - ====== WebDriver manager ======\n",
      "[WDM] - Current google-chrome version is 94.0.4606\n",
      "[WDM] - Get LATEST driver version for 94.0.4606\n",
      "[WDM] - Driver [C:\\Users\\astro\\.wdm\\drivers\\chromedriver\\win32\\94.0.4606.61\\chromedriver.exe] found in cache\n",
      "[WDM] - \n",
      "\n",
      "[WDM] - ====== WebDriver manager ======\n",
      "[WDM] - Current google-chrome version is 94.0.4606\n",
      "[WDM] - Get LATEST driver version for 94.0.4606\n",
      "[WDM] - Driver [C:\\Users\\astro\\.wdm\\drivers\\chromedriver\\win32\\94.0.4606.61\\chromedriver.exe] found in cache\n",
      "[WDM] - \n",
      "\n",
      "[WDM] - ====== WebDriver manager ======\n",
      "[WDM] - Current google-chrome version is 94.0.4606\n",
      "[WDM] - Get LATEST driver version for 94.0.4606\n",
      "[WDM] - Driver [C:\\Users\\astro\\.wdm\\drivers\\chromedriver\\win32\\94.0.4606.61\\chromedriver.exe] found in cache\n"
     ]
    }
   ],
   "source": [
    "for i in range(1,6):\n",
    "    time.sleep(1)\n",
    "    driver = webdriver.Chrome(ChromeDriverManager().install())\n",
    "    time.sleep(1)\n",
    "    driver.get(lk[i])\n",
    "    supClass = driver.find_elements_by_class_name('container-22AZo')\n",
    "    des = supClass[0].find_element_by_class_name('description-2vGyn').text\n",
    "    nm1 = supClass[0].find_element_by_class_name('titleStyles-i9mVW').text\n",
    "    description.append(des)\n",
    "    name.append(nm1)\n",
    "    driver.close()\n",
    "    time.sleep(1)"
   ]
  },
  {
   "cell_type": "code",
   "execution_count": 32,
   "id": "68dfe39c-bae0-4090-8e22-90ed8af0c3e0",
   "metadata": {},
   "outputs": [],
   "source": [
    "#print(description)\n",
    "#print(name)"
   ]
  },
  {
   "cell_type": "code",
   "execution_count": 33,
   "id": "1952c57a-1f95-4299-9d8d-63f0d9597f6f",
   "metadata": {},
   "outputs": [],
   "source": [
    "data = {'Name':name,\n",
    "        'Description':description\n",
    "}"
   ]
  },
  {
   "cell_type": "code",
   "execution_count": 34,
   "id": "43d4d098-9061-49da-b23d-2ed5e46948d8",
   "metadata": {},
   "outputs": [],
   "source": [
    "dat = pd.DataFrame(data)"
   ]
  },
  {
   "cell_type": "code",
   "execution_count": 35,
   "id": "447f685a-8b00-48ac-bc75-2597a1af259b",
   "metadata": {},
   "outputs": [
    {
     "data": {
      "text/html": [
       "<div>\n",
       "<style scoped>\n",
       "    .dataframe tbody tr th:only-of-type {\n",
       "        vertical-align: middle;\n",
       "    }\n",
       "\n",
       "    .dataframe tbody tr th {\n",
       "        vertical-align: top;\n",
       "    }\n",
       "\n",
       "    .dataframe thead th {\n",
       "        text-align: right;\n",
       "    }\n",
       "</style>\n",
       "<table border=\"1\" class=\"dataframe\">\n",
       "  <thead>\n",
       "    <tr style=\"text-align: right;\">\n",
       "      <th></th>\n",
       "      <th>Name</th>\n",
       "      <th>Description</th>\n",
       "    </tr>\n",
       "  </thead>\n",
       "  <tbody>\n",
       "    <tr>\n",
       "      <th>0</th>\n",
       "      <td>Differin</td>\n",
       "      <td>Adapalene (Differin) is an expensive drug used...</td>\n",
       "    </tr>\n",
       "    <tr>\n",
       "      <th>1</th>\n",
       "      <td>Adderall</td>\n",
       "      <td>Amphetamine salt combo (Adderall) is a moderat...</td>\n",
       "    </tr>\n",
       "    <tr>\n",
       "      <th>2</th>\n",
       "      <td>Adderall XR</td>\n",
       "      <td>Amphetamine salt combo XR (Adderall XR) is a c...</td>\n",
       "    </tr>\n",
       "    <tr>\n",
       "      <th>3</th>\n",
       "      <td>Concerta</td>\n",
       "      <td>Methylphenidate ER (Concerta, Relaxxii) is an ...</td>\n",
       "    </tr>\n",
       "    <tr>\n",
       "      <th>4</th>\n",
       "      <td>Focalin</td>\n",
       "      <td>Dexmethylphenidate (Focalin) is an expensive d...</td>\n",
       "    </tr>\n",
       "  </tbody>\n",
       "</table>\n",
       "</div>"
      ],
      "text/plain": [
       "          Name                                        Description\n",
       "0     Differin  Adapalene (Differin) is an expensive drug used...\n",
       "1     Adderall  Amphetamine salt combo (Adderall) is a moderat...\n",
       "2  Adderall XR  Amphetamine salt combo XR (Adderall XR) is a c...\n",
       "3     Concerta  Methylphenidate ER (Concerta, Relaxxii) is an ...\n",
       "4      Focalin  Dexmethylphenidate (Focalin) is an expensive d..."
      ]
     },
     "execution_count": 35,
     "metadata": {},
     "output_type": "execute_result"
    }
   ],
   "source": [
    "dat"
   ]
  },
  {
   "cell_type": "code",
   "execution_count": 36,
   "id": "33d3fa23-6a4a-4a63-b700-acc2ec53c83d",
   "metadata": {},
   "outputs": [],
   "source": [
    "dat.to_csv('first5goodrxdrug.csv')"
   ]
  }
 ],
 "metadata": {
  "kernelspec": {
   "display_name": "Python 3 (ipykernel)",
   "language": "python",
   "name": "python3"
  },
  "language_info": {
   "codemirror_mode": {
    "name": "ipython",
    "version": 3
   },
   "file_extension": ".py",
   "mimetype": "text/x-python",
   "name": "python",
   "nbconvert_exporter": "python",
   "pygments_lexer": "ipython3",
   "version": "3.9.6"
  }
 },
 "nbformat": 4,
 "nbformat_minor": 5
}
