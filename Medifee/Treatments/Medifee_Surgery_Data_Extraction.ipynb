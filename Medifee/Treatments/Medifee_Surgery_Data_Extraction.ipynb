{
 "cells": [
  {
   "cell_type": "code",
   "execution_count": 1,
   "metadata": {},
   "outputs": [],
   "source": [
    "import pandas as pd\n",
    "import numpy as np\n",
    "import requests\n",
    "from bs4 import BeautifulSoup as soup\n",
    "from urllib.request import Request,urlopen\n",
    "from selenium import webdriver\n",
    "from selenium.webdriver.common.keys import Keys\n",
    "import time\n",
    "import os"
   ]
  },
  {
   "cell_type": "code",
   "execution_count": 2,
   "metadata": {},
   "outputs": [],
   "source": [
    "#Seting up webdrive\n",
    "from selenium.webdriver.common.keys import Keys\n",
    "from selenium.webdriver.firefox.options import Options\n",
    "from selenium.common.exceptions import TimeoutException\n",
    "from selenium.webdriver.support.ui import WebDriverWait\n",
    "from selenium.webdriver.support import expected_conditions as EC\n",
    "from selenium.webdriver.common.by import By"
   ]
  },
  {
   "cell_type": "markdown",
   "metadata": {},
   "source": [
    "Web Driver Start"
   ]
  },
  {
   "cell_type": "code",
   "execution_count": 3,
   "metadata": {},
   "outputs": [],
   "source": [
    "#from webdriver_manager.chrome import ChromeDriverManager\n",
    "#driver = webdriver.Firefox()\n",
    "driver = webdriver.Chrome('D:\\Software\\chromedriver_win32\\chromedriver.exe')"
   ]
  },
  {
   "cell_type": "markdown",
   "metadata": {},
   "source": [
    "Scrolling Infinite Times"
   ]
  },
  {
   "cell_type": "code",
   "execution_count": 4,
   "metadata": {},
   "outputs": [],
   "source": [
    "df1=pd.read_csv(\"medifee_surgery_link.csv\")\n",
    "links=df1[\"Link\"]"
   ]
  },
  {
   "cell_type": "code",
   "execution_count": 5,
   "metadata": {
    "scrolled": true
   },
   "outputs": [
    {
     "data": {
      "text/plain": [
       "0     https://www.medifee.com/surgery/breast-cancer-...\n",
       "1     https://www.medifee.com/surgery/intestinal-can...\n",
       "2     https://www.medifee.com/surgery/pancreatic-can...\n",
       "3     https://www.medifee.com/surgery/lung-cancer-su...\n",
       "4     https://www.medifee.com/surgery/thyroid-cancer...\n",
       "5     https://www.medifee.com/surgery/bladder-cancer...\n",
       "6     https://www.medifee.com/surgery/liver-cancer-s...\n",
       "7     https://www.medifee.com/surgery/skin-cancer-su...\n",
       "8     https://www.medifee.com/surgery/stomach-cancer...\n",
       "9     https://www.medifee.com/surgery/prostate-cance...\n",
       "10    https://www.medifee.com/surgery/esophageal-can...\n",
       "11    https://www.medifee.com/surgery/heart-cancer-s...\n",
       "12    https://www.medifee.com/surgery/bone-marrow-tr...\n",
       "13    https://www.medifee.com/surgery/oral-cancer-su...\n",
       "14    https://www.medifee.com/surgery/colorectal-can...\n",
       "15    https://www.medifee.com/surgery/bone-cancer-su...\n",
       "16    https://www.medifee.com/surgery/ovarian-cancer...\n",
       "17    https://www.medifee.com/surgery/knee-arthropla...\n",
       "18    https://www.medifee.com/surgery/acl-reconstruc...\n",
       "19    https://www.medifee.com/surgery/radiation-ther...\n",
       "20    https://www.medifee.com/surgery/partial-knee-r...\n",
       "21    https://www.medifee.com/surgery/total-hip-repl...\n",
       "22    https://www.medifee.com/surgery/elbow-arthrosc...\n",
       "23    https://www.medifee.com/surgery/hip-arthroscop...\n",
       "24    https://www.medifee.com/surgery/knee-arthrosco...\n",
       "25    https://www.medifee.com/surgery/spinal-decompr...\n",
       "26    https://www.medifee.com/surgery/partial-hip-re...\n",
       "27    https://www.medifee.com/surgery/vertebroplasty...\n",
       "28    https://www.medifee.com/surgery/total-knee-rep...\n",
       "29    https://www.medifee.com/surgery/heart-bypass-s...\n",
       "                            ...                        \n",
       "61    https://www.medifee.com/surgery/pediatric-card...\n",
       "62    https://www.medifee.com/surgery/gastric-bypass...\n",
       "63    https://www.medifee.com/surgery/hysteroscopic-...\n",
       "64    https://www.medifee.com/surgery/implantable-ca...\n",
       "65    https://www.medifee.com/surgery/angioplasty-su...\n",
       "66    https://www.medifee.com/surgery/gallbladder-re...\n",
       "67    https://www.medifee.com/surgery/piles-surgery-...\n",
       "68    https://www.medifee.com/surgery/rhinoplasty-in...\n",
       "69    https://www.medifee.com/surgery/plastic-surger...\n",
       "70    https://www.medifee.com/surgery/brain-mapping-...\n",
       "71    https://www.medifee.com/surgery/eardrum-repair...\n",
       "72    https://www.medifee.com/surgery/chemoport-in-i...\n",
       "73    https://www.medifee.com/surgery/deep-brain-sti...\n",
       "74    https://www.medifee.com/surgery/dialysis-in-india\n",
       "75    https://www.medifee.com/surgery/body-contourin...\n",
       "76    https://www.medifee.com/surgery/cochlear-impla...\n",
       "77       https://www.medifee.com/surgery/botox-in-india\n",
       "78    https://www.medifee.com/surgery/cervical-spine...\n",
       "79    https://www.medifee.com/surgery/spine-surgery-...\n",
       "80    https://www.medifee.com/surgery/picc-line-inse...\n",
       "81    https://www.medifee.com/surgery/acne-scar-remo...\n",
       "82    https://www.medifee.com/surgery/brain-tumor-su...\n",
       "83    https://www.medifee.com/surgery/chemotherapy-i...\n",
       "84    https://www.medifee.com/surgery/facelift-surge...\n",
       "85    https://www.medifee.com/surgery/frontal-sinus-...\n",
       "86    https://www.medifee.com/surgery/liver-transpla...\n",
       "87    https://www.medifee.com/surgery/laser-spine-su...\n",
       "88    https://www.medifee.com/surgery/heart-transpla...\n",
       "89    https://www.medifee.com/surgery/sleeve-gastrec...\n",
       "90    https://www.medifee.com/surgery/spinal-fusion-...\n",
       "Name: Link, Length: 91, dtype: object"
      ]
     },
     "execution_count": 5,
     "metadata": {},
     "output_type": "execute_result"
    }
   ],
   "source": [
    "links"
   ]
  },
  {
   "cell_type": "code",
   "execution_count": 6,
   "metadata": {},
   "outputs": [
    {
     "data": {
      "text/plain": [
       "'https://www.medifee.com/surgery/breast-cancer-surgery-in-india'"
      ]
     },
     "execution_count": 6,
     "metadata": {},
     "output_type": "execute_result"
    }
   ],
   "source": [
    "links[0]"
   ]
  },
  {
   "cell_type": "markdown",
   "metadata": {},
   "source": [
    "Parsing the Page"
   ]
  },
  {
   "cell_type": "code",
   "execution_count": 301,
   "metadata": {},
   "outputs": [],
   "source": [
    "sname=[]\n",
    "what=[]\n",
    "why=[]\n",
    "prep=[]\n",
    "beforeday=[]\n",
    "sday=[]\n",
    "tech=[]\n",
    "posttech=[]\n",
    "risk=[]\n",
    "faq=[]\n",
    "\n"
   ]
  },
  {
   "cell_type": "code",
   "execution_count": 302,
   "metadata": {},
   "outputs": [],
   "source": [
    "ss_1=0"
   ]
  },
  {
   "cell_type": "code",
   "execution_count": 303,
   "metadata": {
    "scrolled": true
   },
   "outputs": [
    {
     "name": "stdout",
     "output_type": "stream",
     "text": [
      "56\n",
      "57\n",
      "58\n",
      "59\n",
      "60\n"
     ]
    }
   ],
   "source": [
    "for i in range(55,60):\n",
    "    driver.get(links[i])\n",
    "    time.sleep(0.5)\n",
    "    res=driver.execute_script(\"return document.documentElement.outerHTML\")\n",
    "    soup_1=soup(res,'lxml')\n",
    "    \n",
    "    #heading\n",
    "    head_1=soup_1.find(\"h1\")\n",
    "    if head_1==None:\n",
    "        ss_1=1\n",
    "    else:\n",
    "        #surgery name\n",
    "        sname_1=head_1.text\n",
    "        sname.append(sname_1)\n",
    "        x=soup_1.find(\"div\",{\"class\":\"panel panel-default\"})\n",
    "        x_1=soup_1.findAll(\"h2\")\n",
    "        #what\n",
    "        what_1=x.text.split(\"\\n\\n\\n\"+x_1[0].text)\n",
    "        what_2=what_1[1].split(x_1[1].text)\n",
    "        if what_2[1]==None:\n",
    "            what.append(\"Not Available in Web page\")\n",
    "        else:\n",
    "            what.append(what_2[0])\n",
    "        \n",
    "        #why \n",
    "        why_1=what_2[1].split(x_1[2].text)\n",
    "        if len(why_1)==1:\n",
    "            why.append(\"Not Available in Web page\")\n",
    "        else:\n",
    "            why.append(why_1[0])\n",
    "        \n",
    "        #pre-op\n",
    "        prep_1=why_1[1].split(x_1[3].text)\n",
    "        if len(prep_1)==1:\n",
    "            prep.append(\"Not Available in Web page\")\n",
    "        else:\n",
    "            prep.append(prep_1[0])\n",
    "        \n",
    "        #day-before\n",
    "        bday_1=prep_1[1].split(x_1[4].text)\n",
    "        if len(bday_1)==1:\n",
    "            beforeday.append(\"Not Available in Web page\")\n",
    "        else:\n",
    "            beforeday.append(bday_1[0])\n",
    "        \n",
    "        #dayofsurgery\n",
    "        sday_1=bday_1[1].split(x_1[5].text)\n",
    "        if len(sday_1)==1:\n",
    "            sday.append(\"Not Available in Web page\")\n",
    "        else:\n",
    "            sday.append(sday_1[0])\n",
    "        \n",
    "        #methods\n",
    "        tech_1=sday_1[1].split(x_1[6].text)\n",
    "        if len(tech_1)==1:\n",
    "            tech.append(\"Not Available in Web page\")\n",
    "        else:\n",
    "            tech.append(tech_1[0]) \n",
    "        \n",
    "        #post-procedure\n",
    "        posttech_1=tech_1[1].split(x_1[7].text)\n",
    "        if len(posttech_1)==1:\n",
    "            posttech.append(\"Not Available in Web page\")\n",
    "        else:\n",
    "            posttech.append(posttech_1[0]) \n",
    "        \n",
    "        #risks and faq\n",
    "        if len(x_1)==8:\n",
    "            risk_1=posttech_1[1].split(\"More information\")\n",
    "            risk.append(risk_1[0])\n",
    "            faq.append(\"Not Available in Web page\")   \n",
    "        else:\n",
    "            risk_1=posttech_1[1].split(x_1[8].text)\n",
    "            risk.append(risk_1[0])\n",
    "            faq_1=risk_1[1].split(\"\\n\\nRelated Information\")\n",
    "            faq.append(faq_1[0])\n",
    "            \n",
    "    print(i+1)"
   ]
  },
  {
   "cell_type": "code",
   "execution_count": 252,
   "metadata": {},
   "outputs": [
    {
     "data": {
      "text/plain": [
       "['\\nRisks and Complications']"
      ]
     },
     "execution_count": 252,
     "metadata": {},
     "output_type": "execute_result"
    }
   ],
   "source": [
    "posttech_1"
   ]
  },
  {
   "cell_type": "code",
   "execution_count": 219,
   "metadata": {},
   "outputs": [
    {
     "data": {
      "text/plain": [
       "\"\\n\\n\\n\\nThe operation theater is a completely disinfected place with all the instruments sterelised.\\nYou would be made to lie on the operation table on the back (supine position) or on the side (lateral decubitus). A traction table or different devices are used to apply traction to your affected leg. It is done to separate the 'ball' from the 'socket' to allow for sufficient access in the joint space. A few millimeters of traction is achieved this way.\\nAdequate padding would be placed on the operating table to support your body throughout the surgery and avoid any undue pressure on the pudendal, femoral, obturator or peroneal nerves.\\nAfter this, the area is painted with disinfectant and the surgery starts.\\nThe important anatomic landmarks are marked on the skin with an indelible marker.\\nNow a fine needle will be inserted to break the suction seal of hip joint to allow for further separation (hence more access).\\nArthroscopic fluid is inserted which makes it easier to see the joint space clearly and make space for insertion for instruments.\\nThe needle which was placed first is now removed and small points of entry (portals) are made on the skin using a new hollow needle, but in a different position.\\nA thin guide wire is passed through the hollow needle into the joint with help of X-ray guidance and the hollow needle is removed.\\nThe area around the guide wire is cut so that a cannula can be placed over it. After it is placed properly, the guide wire is removed. This is the first portal of entry through which further instruments can be inserted.\\nOnce the arthroscope is inserted, visual feed from the camera can now allow the surgeon to judge and create more portals of entry. At most, 4 portals can be made.\\nThus, one portal holds the arthroscope and others carry the surgical instruments (radiofrequency probe, hook probes, anchors etc.). Now any type of repair required is possible.\\nAfter  surgery is complete, traction is slowly released and this brings the ball and socket back to its original position, and position of the arthroscope is shifted.\\n\\nA few repairs that are carried out using arthroscopy:\\n\\nHip impingement syndrome (FAI): It is the impingement of articulating surfaces of the hip joint due to abnormal contact of the thigh bone with the hip bone. Cam-type (problem in femur) FAI and pincer-type FAI (problem in hip joint) are two variants. Technique involves debridement and repair of any injuries to cartilage and labrum, or recontouring head of femur or the overextended hip bone (acetabulum).\\nLabral tears: Labrum is a covering in the acetabulum which stabilises the hip joint and acts as a shock absorber. Excessive compression forces, or trauma, may damage the labrum and cause pain in the lower back, buttock, knees. Repair is possible by debriding or by stablising it against the hip bone using anchors. Nowadays, grafts are gaining popularity to repair the damaged labrum.\\nBone cysts: The bone cysts are removed and bone graft is filled in place.\\nSynovitis: The inflammation of synovial fluid is removed via synovectomy.\\nArticular cartilage damage: Early stages of arthritis are possible to be treated using this method. 'Microfractures' are made to stimulate growth of new cartilage.\\nThough minimally invasive, hip arthroscopy takes more time than a hip replacement surgery. 2 hours is the average time taken.\\n\\n\\n\""
      ]
     },
     "execution_count": 219,
     "metadata": {},
     "output_type": "execute_result"
    }
   ],
   "source": [
    "tech_1[0]"
   ]
  },
  {
   "cell_type": "code",
   "execution_count": null,
   "metadata": {},
   "outputs": [],
   "source": []
  },
  {
   "cell_type": "code",
   "execution_count": 215,
   "metadata": {},
   "outputs": [
    {
     "data": {
      "text/plain": [
       "'Post Procedure'"
      ]
     },
     "execution_count": 215,
     "metadata": {},
     "output_type": "execute_result"
    }
   ],
   "source": [
    "x_1[6].text"
   ]
  },
  {
   "cell_type": "markdown",
   "metadata": {},
   "source": [
    "hospital_1=[]\n",
    "for p_1 in range(len(hospital)):\n",
    "    p_2=hospital[p_1]\n",
    "    p_3=p_2.split(\"Hospital(s):\")\n",
    "    p_4=\"\"\n",
    "    for p_5 in range(len(p_3)):\n",
    "        if p_3[p_5]!='':\n",
    "            if p_5==len(p_3)-1:\n",
    "                p_4=p_4+p_3[p_5]\n",
    "            else:\n",
    "                p_4=p_4+p_3[p_5]+\";\"\n",
    "    hospital_1.append(p_4)\n",
    "hospital=hospital_1"
   ]
  },
  {
   "cell_type": "markdown",
   "metadata": {},
   "source": [
    "Data Conversion"
   ]
  },
  {
   "cell_type": "code",
   "execution_count": 304,
   "metadata": {},
   "outputs": [],
   "source": [
    "column=[\"Surgery Name\",\"What\",\"Why\",\"Preoperative Preparation\",\"Day before Surgery\",\"Procedure Day\",\"Techniques\",\"Post Procedure\",\"Risks and Complications\",\"FAQ\"]"
   ]
  },
  {
   "cell_type": "code",
   "execution_count": 305,
   "metadata": {},
   "outputs": [],
   "source": [
    "df=pd.DataFrame(columns=column)"
   ]
  },
  {
   "cell_type": "code",
   "execution_count": 306,
   "metadata": {},
   "outputs": [
    {
     "data": {
      "text/html": [
       "<div>\n",
       "<style scoped>\n",
       "    .dataframe tbody tr th:only-of-type {\n",
       "        vertical-align: middle;\n",
       "    }\n",
       "\n",
       "    .dataframe tbody tr th {\n",
       "        vertical-align: top;\n",
       "    }\n",
       "\n",
       "    .dataframe thead th {\n",
       "        text-align: right;\n",
       "    }\n",
       "</style>\n",
       "<table border=\"1\" class=\"dataframe\">\n",
       "  <thead>\n",
       "    <tr style=\"text-align: right;\">\n",
       "      <th></th>\n",
       "      <th>Surgery Name</th>\n",
       "      <th>What</th>\n",
       "      <th>Why</th>\n",
       "      <th>Preoperative Preparation</th>\n",
       "      <th>Day before Surgery</th>\n",
       "      <th>Procedure Day</th>\n",
       "      <th>Techniques</th>\n",
       "      <th>Post Procedure</th>\n",
       "      <th>Risks and Complications</th>\n",
       "      <th>FAQ</th>\n",
       "    </tr>\n",
       "  </thead>\n",
       "  <tbody>\n",
       "  </tbody>\n",
       "</table>\n",
       "</div>"
      ],
      "text/plain": [
       "Empty DataFrame\n",
       "Columns: [Surgery Name, What, Why, Preoperative Preparation, Day before Surgery, Procedure Day, Techniques, Post Procedure, Risks and Complications, FAQ]\n",
       "Index: []"
      ]
     },
     "execution_count": 306,
     "metadata": {},
     "output_type": "execute_result"
    }
   ],
   "source": [
    "df"
   ]
  },
  {
   "cell_type": "code",
   "execution_count": null,
   "metadata": {},
   "outputs": [],
   "source": []
  },
  {
   "cell_type": "code",
   "execution_count": 307,
   "metadata": {},
   "outputs": [
    {
     "data": {
      "text/plain": [
       "Index(['Surgery Name', 'What', 'Why', 'Preoperative Preparation',\n",
       "       'Day before Surgery', 'Procedure Day', 'Techniques', 'Post Procedure',\n",
       "       'Risks and Complications', 'FAQ'],\n",
       "      dtype='object')"
      ]
     },
     "execution_count": 307,
     "metadata": {},
     "output_type": "execute_result"
    }
   ],
   "source": [
    "df.columns"
   ]
  },
  {
   "cell_type": "code",
   "execution_count": 308,
   "metadata": {},
   "outputs": [],
   "source": [
    "\n",
    "\n",
    "df[\"Surgery Name\"]=pd.Series(sname)\n",
    "df[\"What\"]=pd.Series(what)\n",
    "df[\"Why\"]=pd.Series(why)\n",
    "df[\"Preoperative Preparation\"]=pd.Series(prep)\n",
    "df[\"Day before Surgery\"]=pd.Series(beforeday)\n",
    "df[\"Procedure Day\"]=pd.Series(sday)\n",
    "df[\"Techniques\"]=pd.Series(tech)\n",
    "\n",
    "df[\"Post Procedure\"]=pd.Series(posttech)\n",
    "\n",
    "df[\"Risks and Complications\"]=pd.Series(risk)\n",
    "\n",
    "df[\"FAQ\"]=pd.Series(faq)\n",
    "\n",
    "\n",
    "\n",
    "\n"
   ]
  },
  {
   "cell_type": "code",
   "execution_count": 309,
   "metadata": {
    "scrolled": false
   },
   "outputs": [
    {
     "data": {
      "text/html": [
       "<div>\n",
       "<style scoped>\n",
       "    .dataframe tbody tr th:only-of-type {\n",
       "        vertical-align: middle;\n",
       "    }\n",
       "\n",
       "    .dataframe tbody tr th {\n",
       "        vertical-align: top;\n",
       "    }\n",
       "\n",
       "    .dataframe thead th {\n",
       "        text-align: right;\n",
       "    }\n",
       "</style>\n",
       "<table border=\"1\" class=\"dataframe\">\n",
       "  <thead>\n",
       "    <tr style=\"text-align: right;\">\n",
       "      <th></th>\n",
       "      <th>Surgery Name</th>\n",
       "      <th>What</th>\n",
       "      <th>Why</th>\n",
       "      <th>Preoperative Preparation</th>\n",
       "      <th>Day before Surgery</th>\n",
       "      <th>Procedure Day</th>\n",
       "      <th>Techniques</th>\n",
       "      <th>Post Procedure</th>\n",
       "      <th>Risks and Complications</th>\n",
       "      <th>FAQ</th>\n",
       "    </tr>\n",
       "  </thead>\n",
       "  <tbody>\n",
       "    <tr>\n",
       "      <th>0</th>\n",
       "      <td>Craniotomy</td>\n",
       "      <td>\\nCraniotomy is type of a brain surgery. It en...</td>\n",
       "      <td>\\nCraniotomy is performed for a number of reas...</td>\n",
       "      <td>\\n\\nPhysical examination: In addition to a com...</td>\n",
       "      <td>\\n\\n\\nAntiseptic shampoo: You may be prescribe...</td>\n",
       "      <td>\\n\\nSedation: Sedation is administered to you ...</td>\n",
       "      <td>\\nTo begin the surgery, general anesthesia is ...</td>\n",
       "      <td>\\n\\n\\nImmediately after procedure, you will be...</td>\n",
       "      <td>\\nSwelling of brain and retention of fluid in ...</td>\n",
       "      <td>Not Available in Web page</td>\n",
       "    </tr>\n",
       "    <tr>\n",
       "      <th>1</th>\n",
       "      <td>Cervical Cerclage</td>\n",
       "      <td>\\nCervical cerclage is a surgery which include...</td>\n",
       "      <td>\\nAs mentioned above, cervical cerclage is don...</td>\n",
       "      <td>\\nCervical cerclage is performed at the openin...</td>\n",
       "      <td>\\nCervical cerclage can be done as a preventiv...</td>\n",
       "      <td>\\nOn the day of surgery, patient is advised to...</td>\n",
       "      <td>\\nThere are two methods of cervical cerclage t...</td>\n",
       "      <td>\\n\\nAfter cervical cerclage surgery is complet...</td>\n",
       "      <td>\\nFollowing are the risks and complications as...</td>\n",
       "      <td>Not Available in Web page</td>\n",
       "    </tr>\n",
       "    <tr>\n",
       "      <th>2</th>\n",
       "      <td>Bariatric Surgery</td>\n",
       "      <td>\\nAll the surgical procedures, which aid in we...</td>\n",
       "      <td>\\nBariatric surgery is indicated in obese peop...</td>\n",
       "      <td>\\nBariatric surgery is different from other su...</td>\n",
       "      <td>\\nIt is generally advisable to get admitted to...</td>\n",
       "      <td>\\nOn the day of surgery, well before the decid...</td>\n",
       "      <td>\\nBariatric surgery methods involve operating ...</td>\n",
       "      <td>\\nImmediately after the surgery patient is tak...</td>\n",
       "      <td>\\n\\nBleeding and Blood Clot Formation\\nBleedin...</td>\n",
       "      <td>Not Available in Web page</td>\n",
       "    </tr>\n",
       "    <tr>\n",
       "      <th>3</th>\n",
       "      <td>Lumbar Puncture</td>\n",
       "      <td>\\nLumbar puncture is a method of collecting ce...</td>\n",
       "      <td>\\nLumbar puncture is often employed as a diagn...</td>\n",
       "      <td>\\nLumbar puncture is not an operation. It is a...</td>\n",
       "      <td>\\nThe day before lumbar puncture, patient is a...</td>\n",
       "      <td>\\nOn the day of lumbar puncture, patient is ex...</td>\n",
       "      <td>\\nFollowing are the steps involved in a lumbar...</td>\n",
       "      <td>\\nBefore being discharged to go home, the pati...</td>\n",
       "      <td>\\nA few risks are associated with lumbar punct...</td>\n",
       "      <td>Not Available in Web page</td>\n",
       "    </tr>\n",
       "    <tr>\n",
       "      <th>4</th>\n",
       "      <td>Vasectomy</td>\n",
       "      <td>\\nVasectomy is a method of contraception in ma...</td>\n",
       "      <td>\\nGenerally, going for a vasectomy is a person...</td>\n",
       "      <td>\\nPrior to surgery, patient needs to get compl...</td>\n",
       "      <td>\\nA day before surgery, basic test records nee...</td>\n",
       "      <td>\\nOn the morning of the surgery, patient needs...</td>\n",
       "      <td>\\nMost of the times, local anesthesia is given...</td>\n",
       "      <td>\\nIn most cases, patient can return home on th...</td>\n",
       "      <td>\\n\\nFollowing are the side effects observed ri...</td>\n",
       "      <td>\\n\\n\\nCan vasectomy make a man impotent?\\nA. T...</td>\n",
       "    </tr>\n",
       "  </tbody>\n",
       "</table>\n",
       "</div>"
      ],
      "text/plain": [
       "        Surgery Name                                               What  \\\n",
       "0         Craniotomy  \\nCraniotomy is type of a brain surgery. It en...   \n",
       "1  Cervical Cerclage  \\nCervical cerclage is a surgery which include...   \n",
       "2  Bariatric Surgery  \\nAll the surgical procedures, which aid in we...   \n",
       "3    Lumbar Puncture  \\nLumbar puncture is a method of collecting ce...   \n",
       "4          Vasectomy  \\nVasectomy is a method of contraception in ma...   \n",
       "\n",
       "                                                 Why  \\\n",
       "0  \\nCraniotomy is performed for a number of reas...   \n",
       "1  \\nAs mentioned above, cervical cerclage is don...   \n",
       "2  \\nBariatric surgery is indicated in obese peop...   \n",
       "3  \\nLumbar puncture is often employed as a diagn...   \n",
       "4  \\nGenerally, going for a vasectomy is a person...   \n",
       "\n",
       "                            Preoperative Preparation  \\\n",
       "0  \\n\\nPhysical examination: In addition to a com...   \n",
       "1  \\nCervical cerclage is performed at the openin...   \n",
       "2  \\nBariatric surgery is different from other su...   \n",
       "3  \\nLumbar puncture is not an operation. It is a...   \n",
       "4  \\nPrior to surgery, patient needs to get compl...   \n",
       "\n",
       "                                  Day before Surgery  \\\n",
       "0  \\n\\n\\nAntiseptic shampoo: You may be prescribe...   \n",
       "1  \\nCervical cerclage can be done as a preventiv...   \n",
       "2  \\nIt is generally advisable to get admitted to...   \n",
       "3  \\nThe day before lumbar puncture, patient is a...   \n",
       "4  \\nA day before surgery, basic test records nee...   \n",
       "\n",
       "                                       Procedure Day  \\\n",
       "0  \\n\\nSedation: Sedation is administered to you ...   \n",
       "1  \\nOn the day of surgery, patient is advised to...   \n",
       "2  \\nOn the day of surgery, well before the decid...   \n",
       "3  \\nOn the day of lumbar puncture, patient is ex...   \n",
       "4  \\nOn the morning of the surgery, patient needs...   \n",
       "\n",
       "                                          Techniques  \\\n",
       "0  \\nTo begin the surgery, general anesthesia is ...   \n",
       "1  \\nThere are two methods of cervical cerclage t...   \n",
       "2  \\nBariatric surgery methods involve operating ...   \n",
       "3  \\nFollowing are the steps involved in a lumbar...   \n",
       "4  \\nMost of the times, local anesthesia is given...   \n",
       "\n",
       "                                      Post Procedure  \\\n",
       "0  \\n\\n\\nImmediately after procedure, you will be...   \n",
       "1  \\n\\nAfter cervical cerclage surgery is complet...   \n",
       "2  \\nImmediately after the surgery patient is tak...   \n",
       "3  \\nBefore being discharged to go home, the pati...   \n",
       "4  \\nIn most cases, patient can return home on th...   \n",
       "\n",
       "                             Risks and Complications  \\\n",
       "0  \\nSwelling of brain and retention of fluid in ...   \n",
       "1  \\nFollowing are the risks and complications as...   \n",
       "2  \\n\\nBleeding and Blood Clot Formation\\nBleedin...   \n",
       "3  \\nA few risks are associated with lumbar punct...   \n",
       "4  \\n\\nFollowing are the side effects observed ri...   \n",
       "\n",
       "                                                 FAQ  \n",
       "0                          Not Available in Web page  \n",
       "1                          Not Available in Web page  \n",
       "2                          Not Available in Web page  \n",
       "3                          Not Available in Web page  \n",
       "4  \\n\\n\\nCan vasectomy make a man impotent?\\nA. T...  "
      ]
     },
     "execution_count": 309,
     "metadata": {},
     "output_type": "execute_result"
    }
   ],
   "source": [
    "df"
   ]
  },
  {
   "cell_type": "markdown",
   "metadata": {},
   "source": [
    "df.drop(54,axis=0,inplace=True)"
   ]
  },
  {
   "cell_type": "code",
   "execution_count": 310,
   "metadata": {},
   "outputs": [],
   "source": [
    "df.to_csv(\"medifee_surgery_data_54_60.csv\")"
   ]
  },
  {
   "cell_type": "code",
   "execution_count": null,
   "metadata": {},
   "outputs": [],
   "source": []
  },
  {
   "cell_type": "code",
   "execution_count": null,
   "metadata": {},
   "outputs": [],
   "source": []
  }
 ],
 "metadata": {
  "kernelspec": {
   "display_name": "Python 3",
   "language": "python",
   "name": "python3"
  },
  "language_info": {
   "codemirror_mode": {
    "name": "ipython",
    "version": 3
   },
   "file_extension": ".py",
   "mimetype": "text/x-python",
   "name": "python",
   "nbconvert_exporter": "python",
   "pygments_lexer": "ipython3",
   "version": "3.7.3"
  }
 },
 "nbformat": 4,
 "nbformat_minor": 2
}
