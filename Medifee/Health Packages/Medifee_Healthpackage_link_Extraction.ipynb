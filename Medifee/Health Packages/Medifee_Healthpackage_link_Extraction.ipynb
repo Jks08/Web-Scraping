{
 "cells": [
  {
   "cell_type": "code",
   "execution_count": 1,
   "metadata": {},
   "outputs": [],
   "source": [
    "import pandas as pd\n",
    "import numpy as np\n",
    "import requests\n",
    "from bs4 import BeautifulSoup as soup\n",
    "from urllib.request import Request,urlopen\n",
    "from selenium import webdriver\n",
    "from selenium.webdriver.common.keys import Keys\n",
    "import time\n",
    "import os"
   ]
  },
  {
   "cell_type": "code",
   "execution_count": 2,
   "metadata": {},
   "outputs": [],
   "source": [
    "#Seting up webdrive\n",
    "from selenium.webdriver.common.keys import Keys\n",
    "from selenium.webdriver.firefox.options import Options\n",
    "from selenium.common.exceptions import TimeoutException\n",
    "from selenium.webdriver.support.ui import WebDriverWait\n",
    "from selenium.webdriver.support import expected_conditions as EC\n",
    "from selenium.webdriver.common.by import By"
   ]
  },
  {
   "cell_type": "markdown",
   "metadata": {},
   "source": [
    "Web Driver Start"
   ]
  },
  {
   "cell_type": "code",
   "execution_count": 3,
   "metadata": {},
   "outputs": [],
   "source": [
    "#from webdriver_manager.chrome import ChromeDriverManager\n",
    "#driver = webdriver.Firefox()\n",
    "driver = webdriver.Chrome('D:\\Software\\chromedriver_win32\\chromedriver.exe')"
   ]
  },
  {
   "cell_type": "markdown",
   "metadata": {},
   "source": [
    "Scrolling Infinite Times"
   ]
  },
  {
   "cell_type": "code",
   "execution_count": 4,
   "metadata": {},
   "outputs": [],
   "source": [
    "driver.get(\"https://www.medifee.com/health-packages-list.php\")"
   ]
  },
  {
   "cell_type": "markdown",
   "metadata": {},
   "source": [
    "Parsing the Page"
   ]
  },
  {
   "cell_type": "code",
   "execution_count": 5,
   "metadata": {},
   "outputs": [],
   "source": [
    "#once the scroller has scrolled all the way extract the required data\n",
    "res=driver.execute_script(\"return document.documentElement.outerHTML\")\n",
    "soup_1=soup(res,'lxml')"
   ]
  },
  {
   "cell_type": "markdown",
   "metadata": {},
   "source": []
  },
  {
   "cell_type": "code",
   "execution_count": 8,
   "metadata": {},
   "outputs": [],
   "source": [
    "#gets the name and link\n",
    "c1=soup_1.findAll(\"li\")"
   ]
  },
  {
   "cell_type": "code",
   "execution_count": 9,
   "metadata": {},
   "outputs": [
    {
     "data": {
      "text/plain": [
       "[<li class=\"dropdown\">\n",
       " <a class=\"dropdown-toggle\" data-toggle=\"dropdown\" href=\"#\"><span class=\"glyphicon glyphicon-leaf\"></span> Services<span class=\"caret\"></span></a>\n",
       " <ul class=\"dropdown-menu\" role=\"menu\"><li>\n",
       " </li><li><a href=\"/health-packages-list.php\">Health Packages</a></li>\n",
       " <li><a href=\"/tests/\">Diagnostic Tests</a><!-- (<a href=\"/pathlab-cities.php\">By Cities</a>)--></li>\n",
       " <li><a href=\"/doctors/\">Doctors</a></li>\n",
       " <li><a href=\"/list/top-15-hospitals-in-india\">Top Hospitals</a></li>\n",
       " <li><a href=\"/treatments.php\">Treatments</a></li>\n",
       " <li><a href=\"/surgery/\">Surgeries</a></li>\n",
       " <li><a href=\"/medicine/\">Medicines</a></li>\n",
       " <li><a href=\"/hospital-cities.php\">Hospitals</a></li>\n",
       " <li><a href=\"/pathlab-cities.php\">Diagnostic Centers</a></li>\n",
       " <li><a href=\"/spa-services-india.php\">Spa</a></li>\n",
       " <li><a href=\"/diseases-faq.php\">Disease FAQ</a></li>\n",
       " </ul>\n",
       " </li>, <li>\n",
       " </li>, <li><a href=\"/health-packages-list.php\">Health Packages</a></li>, <li><a href=\"/tests/\">Diagnostic Tests</a><!-- (<a href=\"/pathlab-cities.php\">By Cities</a>)--></li>, <li><a href=\"/doctors/\">Doctors</a></li>, <li><a href=\"/list/top-15-hospitals-in-india\">Top Hospitals</a></li>, <li><a href=\"/treatments.php\">Treatments</a></li>, <li><a href=\"/surgery/\">Surgeries</a></li>, <li><a href=\"/medicine/\">Medicines</a></li>, <li><a href=\"/hospital-cities.php\">Hospitals</a></li>, <li><a href=\"/pathlab-cities.php\">Diagnostic Centers</a></li>, <li><a href=\"/spa-services-india.php\">Spa</a></li>, <li><a href=\"/diseases-faq.php\">Disease FAQ</a></li>, <li id=\"custom_cart_option\"><a data-target=\"#popup_cart\" data-toggle=\"modal\"><span class=\"fa fa-shopping-cart\"></span>   Manage Cart <span class=\"badge badge-notify my-cart-badge\">0</span></a></li>, <li><a href=\"/packages/basic-health-checkup/\" title=\"Basic Health Checkup in India\">Basic Health Checkup</a></li>, <li><a href=\"/packages/cancer-checkup/\" title=\"Cancer Checkup in India\">Cancer Checkup</a></li>, <li><a href=\"/packages/child-health-checkup/\" title=\"Child Health Checkup in India\">Child Health Checkup</a></li>, <li><a href=\"/packages/diabetes-checkup/\" title=\"Diabetes Checkup in India\">Diabetes Checkup</a></li>, <li><a href=\"/packages/executive-health-checkup/\" title=\"Executive Health Checkup in India\">Executive Health Checkup</a></li>, <li><a href=\"/packages/full-body-checkup/\" title=\"Full Body Health Checkup in India\">Full Body Health Checkup</a></li>, <li><a href=\"/packages/heart-checkup/\" title=\"Heart Checkup in India\">Heart/Cardiac Checkup</a></li>, <li><a href=\"/packages/master-health-checkup/\" title=\"Master Health Checkup in India\">Master Health Checkup</a></li>, <li><a href=\"/packages/senior-citizen-health-checkup/\" title=\"Senior Citizen Health Checkup in India\">Senior Citizen Health Checkup</a></li>, <li><a href=\"/packages/well-women-checkup/\" title=\"Wellness Package in India\">Wellness Package</a></li>, <li><a href=\"/health-checkup-in-delhi/\" title=\"Health Checkup Packages in Delhi\">Health Checkup Packages in Delhi</a></li>, <li><a href=\"/health-checkup-in-mumbai/\" title=\"Health Checkup Packages in Mumbai\">Health Checkup Packages in Mumbai</a></li>, <li><a href=\"/health-checkup-in-chennai/\" title=\"Health Checkup Packages in Chennai\">Health Checkup Packages in Chennai</a></li>, <li><a href=\"/health-checkup-in-pune/\" title=\"Health Checkup Packages in Pune\">Health Checkup Packages in Pune</a></li>, <li><a href=\"/health-checkup-in-bangalore/\" title=\"Health Checkup Packages in Bangalore\">Health Checkup Packages in Bangalore</a></li>, <li><a href=\"/health-checkup-in-hyderabad/\" title=\"Health Checkup Packages in Hyderabad\">Health Checkup Packages in Hyderabad</a></li>]"
      ]
     },
     "execution_count": 9,
     "metadata": {},
     "output_type": "execute_result"
    }
   ],
   "source": [
    "c1"
   ]
  },
  {
   "cell_type": "code",
   "execution_count": 19,
   "metadata": {},
   "outputs": [],
   "source": [
    "name=[]\n",
    "link=[]\n",
    "#date=[]\n",
    "#description=[]\n",
    "#rating=[]"
   ]
  },
  {
   "cell_type": "code",
   "execution_count": 20,
   "metadata": {},
   "outputs": [
    {
     "data": {
      "text/plain": [
       "'Basic Health Checkup'"
      ]
     },
     "execution_count": 20,
     "metadata": {},
     "output_type": "execute_result"
    }
   ],
   "source": [
    " c1[14].text"
   ]
  },
  {
   "cell_type": "code",
   "execution_count": 21,
   "metadata": {},
   "outputs": [
    {
     "data": {
      "text/plain": [
       "'Wellness Package'"
      ]
     },
     "execution_count": 21,
     "metadata": {},
     "output_type": "execute_result"
    }
   ],
   "source": [
    "c1[23].text"
   ]
  },
  {
   "cell_type": "code",
   "execution_count": 22,
   "metadata": {},
   "outputs": [],
   "source": [
    "for r in range(14,24):\n",
    "    x=c1[r].find(\"a\")\n",
    "    b=x.get(\"href\")\n",
    "    link.append(\"https://www.medifee.com\"+b)\n",
    "    name.append(c1[r].text)\n",
    "   "
   ]
  },
  {
   "cell_type": "code",
   "execution_count": null,
   "metadata": {},
   "outputs": [],
   "source": []
  },
  {
   "cell_type": "markdown",
   "metadata": {},
   "source": [
    "Conversion to Df and to csv"
   ]
  },
  {
   "cell_type": "code",
   "execution_count": 23,
   "metadata": {},
   "outputs": [],
   "source": [
    "column=[\"Test Name\",\"Link\"]"
   ]
  },
  {
   "cell_type": "code",
   "execution_count": 24,
   "metadata": {},
   "outputs": [],
   "source": [
    "df=pd.DataFrame(columns=column)"
   ]
  },
  {
   "cell_type": "code",
   "execution_count": 25,
   "metadata": {},
   "outputs": [
    {
     "data": {
      "text/html": [
       "<div>\n",
       "<style scoped>\n",
       "    .dataframe tbody tr th:only-of-type {\n",
       "        vertical-align: middle;\n",
       "    }\n",
       "\n",
       "    .dataframe tbody tr th {\n",
       "        vertical-align: top;\n",
       "    }\n",
       "\n",
       "    .dataframe thead th {\n",
       "        text-align: right;\n",
       "    }\n",
       "</style>\n",
       "<table border=\"1\" class=\"dataframe\">\n",
       "  <thead>\n",
       "    <tr style=\"text-align: right;\">\n",
       "      <th></th>\n",
       "      <th>Test Name</th>\n",
       "      <th>Link</th>\n",
       "    </tr>\n",
       "  </thead>\n",
       "  <tbody>\n",
       "  </tbody>\n",
       "</table>\n",
       "</div>"
      ],
      "text/plain": [
       "Empty DataFrame\n",
       "Columns: [Test Name, Link]\n",
       "Index: []"
      ]
     },
     "execution_count": 25,
     "metadata": {},
     "output_type": "execute_result"
    }
   ],
   "source": [
    "df"
   ]
  },
  {
   "cell_type": "code",
   "execution_count": 26,
   "metadata": {},
   "outputs": [],
   "source": [
    "df[\"Test Name\"]=pd.Series(name)\n",
    "df[\"Link\"]=pd.Series(link)\n",
    "#df[\"Description\"]=pd.Series(description)\n",
    "#df[\"Rating out of 5\"]=pd.Series(rating)\n"
   ]
  },
  {
   "cell_type": "code",
   "execution_count": 27,
   "metadata": {},
   "outputs": [
    {
     "data": {
      "text/html": [
       "<div>\n",
       "<style scoped>\n",
       "    .dataframe tbody tr th:only-of-type {\n",
       "        vertical-align: middle;\n",
       "    }\n",
       "\n",
       "    .dataframe tbody tr th {\n",
       "        vertical-align: top;\n",
       "    }\n",
       "\n",
       "    .dataframe thead th {\n",
       "        text-align: right;\n",
       "    }\n",
       "</style>\n",
       "<table border=\"1\" class=\"dataframe\">\n",
       "  <thead>\n",
       "    <tr style=\"text-align: right;\">\n",
       "      <th></th>\n",
       "      <th>Test Name</th>\n",
       "      <th>Link</th>\n",
       "    </tr>\n",
       "  </thead>\n",
       "  <tbody>\n",
       "    <tr>\n",
       "      <th>0</th>\n",
       "      <td>Basic Health Checkup</td>\n",
       "      <td>https://www.medifee.com/packages/basic-health-...</td>\n",
       "    </tr>\n",
       "    <tr>\n",
       "      <th>1</th>\n",
       "      <td>Cancer Checkup</td>\n",
       "      <td>https://www.medifee.com/packages/cancer-checkup/</td>\n",
       "    </tr>\n",
       "    <tr>\n",
       "      <th>2</th>\n",
       "      <td>Child Health Checkup</td>\n",
       "      <td>https://www.medifee.com/packages/child-health-...</td>\n",
       "    </tr>\n",
       "    <tr>\n",
       "      <th>3</th>\n",
       "      <td>Diabetes Checkup</td>\n",
       "      <td>https://www.medifee.com/packages/diabetes-chec...</td>\n",
       "    </tr>\n",
       "    <tr>\n",
       "      <th>4</th>\n",
       "      <td>Executive Health Checkup</td>\n",
       "      <td>https://www.medifee.com/packages/executive-hea...</td>\n",
       "    </tr>\n",
       "    <tr>\n",
       "      <th>5</th>\n",
       "      <td>Full Body Health Checkup</td>\n",
       "      <td>https://www.medifee.com/packages/full-body-che...</td>\n",
       "    </tr>\n",
       "    <tr>\n",
       "      <th>6</th>\n",
       "      <td>Heart/Cardiac Checkup</td>\n",
       "      <td>https://www.medifee.com/packages/heart-checkup/</td>\n",
       "    </tr>\n",
       "    <tr>\n",
       "      <th>7</th>\n",
       "      <td>Master Health Checkup</td>\n",
       "      <td>https://www.medifee.com/packages/master-health...</td>\n",
       "    </tr>\n",
       "    <tr>\n",
       "      <th>8</th>\n",
       "      <td>Senior Citizen Health Checkup</td>\n",
       "      <td>https://www.medifee.com/packages/senior-citize...</td>\n",
       "    </tr>\n",
       "    <tr>\n",
       "      <th>9</th>\n",
       "      <td>Wellness Package</td>\n",
       "      <td>https://www.medifee.com/packages/well-women-ch...</td>\n",
       "    </tr>\n",
       "  </tbody>\n",
       "</table>\n",
       "</div>"
      ],
      "text/plain": [
       "                       Test Name  \\\n",
       "0           Basic Health Checkup   \n",
       "1                 Cancer Checkup   \n",
       "2           Child Health Checkup   \n",
       "3               Diabetes Checkup   \n",
       "4       Executive Health Checkup   \n",
       "5       Full Body Health Checkup   \n",
       "6          Heart/Cardiac Checkup   \n",
       "7          Master Health Checkup   \n",
       "8  Senior Citizen Health Checkup   \n",
       "9               Wellness Package   \n",
       "\n",
       "                                                Link  \n",
       "0  https://www.medifee.com/packages/basic-health-...  \n",
       "1   https://www.medifee.com/packages/cancer-checkup/  \n",
       "2  https://www.medifee.com/packages/child-health-...  \n",
       "3  https://www.medifee.com/packages/diabetes-chec...  \n",
       "4  https://www.medifee.com/packages/executive-hea...  \n",
       "5  https://www.medifee.com/packages/full-body-che...  \n",
       "6    https://www.medifee.com/packages/heart-checkup/  \n",
       "7  https://www.medifee.com/packages/master-health...  \n",
       "8  https://www.medifee.com/packages/senior-citize...  \n",
       "9  https://www.medifee.com/packages/well-women-ch...  "
      ]
     },
     "execution_count": 27,
     "metadata": {},
     "output_type": "execute_result"
    }
   ],
   "source": [
    "df"
   ]
  },
  {
   "cell_type": "code",
   "execution_count": 29,
   "metadata": {},
   "outputs": [],
   "source": [
    "df.to_csv(\"medifeehealthpackagelinks.csv\")"
   ]
  },
  {
   "cell_type": "code",
   "execution_count": null,
   "metadata": {},
   "outputs": [],
   "source": []
  }
 ],
 "metadata": {
  "kernelspec": {
   "display_name": "Python 3",
   "language": "python",
   "name": "python3"
  },
  "language_info": {
   "codemirror_mode": {
    "name": "ipython",
    "version": 3
   },
   "file_extension": ".py",
   "mimetype": "text/x-python",
   "name": "python",
   "nbconvert_exporter": "python",
   "pygments_lexer": "ipython3",
   "version": "3.7.3"
  }
 },
 "nbformat": 4,
 "nbformat_minor": 2
}
