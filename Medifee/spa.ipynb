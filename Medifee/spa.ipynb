{
 "cells": [
  {
   "cell_type": "code",
   "execution_count": 1,
   "id": "cfe9b1d2",
   "metadata": {},
   "outputs": [],
   "source": [
    "import bs4\n",
    "import requests\n",
    "import csv\n",
    "import pandas as pd\n",
    "import re"
   ]
  },
  {
   "cell_type": "code",
   "execution_count": 2,
   "id": "97bb8161",
   "metadata": {},
   "outputs": [
    {
     "data": {
      "text/plain": [
       "200"
      ]
     },
     "execution_count": 2,
     "metadata": {},
     "output_type": "execute_result"
    }
   ],
   "source": [
    "resp=requests.get(\"https://www.medifee.com/spa-services-india.php\")\n",
    "resp.status_code"
   ]
  },
  {
   "cell_type": "code",
   "execution_count": 27,
   "id": "1da0fc75",
   "metadata": {},
   "outputs": [
    {
     "data": {
      "text/plain": [
       "['https://www.medifee.com/spa/thai-massage-cost/',\n",
       " 'https://www.medifee.com/spa/swedish-massage-cost/',\n",
       " 'https://www.medifee.com/spa/deep-tissue-massage-cost/',\n",
       " 'https://www.medifee.com/spa/balinese-massage-cost/',\n",
       " 'https://www.medifee.com/spa/aroma-therapy-cost/',\n",
       " 'https://www.medifee.com/spa/body-polishing-cost/',\n",
       " 'https://www.medifee.com/spa/body-scrub-cost/',\n",
       " 'https://www.medifee.com/spa/facial-cost/',\n",
       " 'https://www.medifee.com/spa/manicure-cost/',\n",
       " 'https://www.medifee.com/spa/pedicure-cost/',\n",
       " 'https://www.medifee.com/spa/head-massage-cost/',\n",
       " 'https://www.medifee.com/spa/foot-massage-cost/',\n",
       " 'https://www.medifee.com/spa/back-massage-cost/',\n",
       " 'https://www.medifee.com/spa-in-new-delhi',\n",
       " 'https://www.medifee.com/spa-in-mumbai',\n",
       " 'https://www.medifee.com/spa-in-bangalore',\n",
       " 'https://www.medifee.com/spa-in-hyderabad',\n",
       " 'https://www.medifee.com/spa-in-pune',\n",
       " 'https://www.medifee.com/spa-in-kolkata',\n",
       " 'https://www.medifee.com/spa-in-chennai']"
      ]
     },
     "execution_count": 27,
     "metadata": {},
     "output_type": "execute_result"
    }
   ],
   "source": [
    "soup=bs4.BeautifulSoup(resp.content,\"html5\")\n",
    "link=soup.find_all(\"a\")\n",
    "title=[]\n",
    "link_main=[]\n",
    "li=[]\n",
    "for i in range (14,len(link)-9):\n",
    "    a=link[i]\n",
    "    title.append(a.text)\n",
    "    li.append(a[\"href\"])\n",
    "for r in li:\n",
    "    link_main.append(\"https://www.medifee.com\"+ (r))\n",
    "link_main\n"
   ]
  },
  {
   "cell_type": "code",
   "execution_count": 29,
   "id": "cbfc812c",
   "metadata": {},
   "outputs": [
    {
     "name": "stdout",
     "output_type": "stream",
     "text": [
      "200\n",
      "[<td><a href=\"/spa/thai-massage-cost-in-bangalore/\" title=\"Thai Massage in Bangalore\">Bangalore</a></td>, <td><a href=\"/spa/thai-massage-cost-in-chennai/\" title=\"Thai Massage in Chennai\">Chennai</a></td>, <td><a href=\"/spa/thai-massage-cost-in-hyderabad/\" title=\"Thai Massage in Hyderabad\">Hyderabad</a></td>, <td><a href=\"/spa/thai-massage-cost-in-kolkata/\" title=\"Thai Massage in Kolkata\">Kolkata</a></td>, <td><a href=\"/spa/thai-massage-cost-in-mumbai/\" title=\"Thai Massage in Mumbai\">Mumbai</a></td>, <td><a href=\"/spa/thai-massage-cost-in-new-delhi/\" title=\"Thai Massage in New Delhi\">New Delhi</a></td>, <td><a href=\"/spa/thai-massage-cost-in-pune/\" title=\"Thai Massage in Pune\">Pune</a></td>]\n",
      "[<td>Rs. 2453.00</td>, <td>Rs. 3096.00</td>, <td>Rs. 2590.00</td>, <td>Rs. 2326.00</td>, <td>Rs. 2611.00</td>, <td>Rs. 2334.00</td>, <td>Rs. 2343.00</td>]\n",
      "[<td>Rs. 299.00</td>, <td>Rs. 299.00</td>, <td>Rs. 1000.00</td>, <td>Rs. 800.00</td>, <td>Rs. 700.00</td>, <td>Rs. 800.00</td>, <td>Rs. 799.00</td>]\n",
      "[<td>Rs. 7000.00</td>, <td>Rs. 7000.00</td>, <td>Rs. 7000.00</td>, <td>Rs. 4100.00</td>, <td>Rs. 5200.00</td>, <td>Rs. 3650.00</td>, <td>Rs. 5500.00</td>]\n",
      "200\n",
      "[<td><a href=\"/spa/swedish-massage-cost-in-bangalore/\" title=\"Swedish Massage in Bangalore\">Bangalore</a></td>, <td><a href=\"/spa/swedish-massage-cost-in-chennai/\" title=\"Swedish Massage in Chennai\">Chennai</a></td>, <td><a href=\"/spa/swedish-massage-cost-in-hyderabad/\" title=\"Swedish Massage in Hyderabad\">Hyderabad</a></td>, <td><a href=\"/spa/swedish-massage-cost-in-kolkata/\" title=\"Swedish Massage in Kolkata\">Kolkata</a></td>, <td><a href=\"/spa/swedish-massage-cost-in-mumbai/\" title=\"Swedish Massage in Mumbai\">Mumbai</a></td>, <td><a href=\"/spa/swedish-massage-cost-in-new-delhi/\" title=\"Swedish Massage in New Delhi\">New Delhi</a></td>, <td><a href=\"/spa/swedish-massage-cost-in-pune/\" title=\"Swedish Massage in Pune\">Pune</a></td>]\n",
      "[<td>Rs. 2426.00</td>, <td>Rs. 3322.00</td>, <td>Rs. 3015.00</td>, <td>Rs. 2842.00</td>, <td>Rs. 2722.00</td>, <td>Rs. 2474.00</td>, <td>Rs. 2541.00</td>]\n",
      "[<td>Rs. 1000.00</td>, <td>Rs. 1000.00</td>, <td>Rs. 1399.00</td>, <td>Rs. 1500.00</td>, <td>Rs. 1000.00</td>, <td>Rs. 1200.00</td>, <td>Rs. 799.00</td>]\n",
      "[<td>Rs. 6500.00</td>, <td>Rs. 6500.00</td>, <td>Rs. 6600.00</td>, <td>Rs. 5400.00</td>, <td>Rs. 5600.00</td>, <td>Rs. 4800.00</td>, <td>Rs. 5600.00</td>]\n",
      "200\n",
      "[<td><a href=\"/spa/deep-tissue-massage-cost-in-bangalore/\" title=\"Deep Tissue Massage in Bangalore\">Bangalore</a></td>, <td><a href=\"/spa/deep-tissue-massage-cost-in-chennai/\" title=\"Deep Tissue Massage in Chennai\">Chennai</a></td>, <td><a href=\"/spa/deep-tissue-massage-cost-in-hyderabad/\" title=\"Deep Tissue Massage in Hyderabad\">Hyderabad</a></td>, <td><a href=\"/spa/deep-tissue-massage-cost-in-kolkata/\" title=\"Deep Tissue Massage in Kolkata\">Kolkata</a></td>, <td><a href=\"/spa/deep-tissue-massage-cost-in-mumbai/\" title=\"Deep Tissue Massage in Mumbai\">Mumbai</a></td>, <td><a href=\"/spa/deep-tissue-massage-cost-in-new-delhi/\" title=\"Deep Tissue Massage in New Delhi\">New Delhi</a></td>, <td><a href=\"/spa/deep-tissue-massage-cost-in-pune/\" title=\"Deep Tissue Massage in Pune\">Pune</a></td>]\n",
      "[<td>Rs. 2285.00</td>, <td>Rs. 2442.00</td>, <td>Rs. 3099.00</td>, <td>Rs. 3080.00</td>, <td>Rs. 3064.00</td>, <td>Rs. 2803.00</td>, <td>Rs. 2808.00</td>]\n",
      "[<td>Rs. 1000.00</td>, <td>Rs. 1700.00</td>, <td>Rs. 1399.00</td>, <td>Rs. 1500.00</td>, <td>Rs. 1000.00</td>, <td>Rs. 1200.00</td>, <td>Rs. 799.00</td>]\n",
      "[<td>Rs. 5500.00</td>, <td>Rs. 4000.00</td>, <td>Rs. 6600.00</td>, <td>Rs. 5500.00</td>, <td>Rs. 6000.00</td>, <td>Rs. 5500.00</td>, <td>Rs. 6000.00</td>]\n",
      "200\n",
      "[<td><a href=\"/spa/balinese-massage-cost-in-bangalore/\" title=\"Balinese Massage in Bangalore\">Bangalore</a></td>, <td><a href=\"/spa/balinese-massage-cost-in-chennai/\" title=\"Balinese Massage in Chennai\">Chennai</a></td>, <td><a href=\"/spa/balinese-massage-cost-in-hyderabad/\" title=\"Balinese Massage in Hyderabad\">Hyderabad</a></td>, <td><a href=\"/spa/balinese-massage-cost-in-kolkata/\" title=\"Balinese Massage in Kolkata\">Kolkata</a></td>, <td><a href=\"/spa/balinese-massage-cost-in-mumbai/\" title=\"Balinese Massage in Mumbai\">Mumbai</a></td>, <td><a href=\"/spa/balinese-massage-cost-in-new-delhi/\" title=\"Balinese Massage in New Delhi\">New Delhi</a></td>, <td><a href=\"/spa/balinese-massage-cost-in-pune/\" title=\"Balinese Massage in Pune\">Pune</a></td>]\n",
      "[<td>Rs. 2757.00</td>, <td>Rs. 3349.00</td>, <td>Rs. 3303.00</td>, <td>Rs. 3575.00</td>, <td>Rs. 3082.00</td>, <td>Rs. 2534.00</td>, <td>Rs. 2864.00</td>]\n",
      "[<td>Rs. 1200.00</td>, <td>Rs. 1500.00</td>, <td>Rs. 1399.00</td>, <td>Rs. 2600.00</td>, <td>Rs. 799.00</td>, <td>Rs. 1500.00</td>, <td>Rs. 1200.00</td>]\n",
      "[<td>Rs. 7200.00</td>, <td>Rs. 7200.00</td>, <td>Rs. 7200.00</td>, <td>Rs. 5700.00</td>, <td>Rs. 6800.00</td>, <td>Rs. 4800.00</td>, <td>Rs. 6800.00</td>]\n",
      "200\n",
      "[<td><a href=\"/spa/aroma-therapy-cost-in-bangalore/\" title=\"Aroma Therapy in Bangalore\">Bangalore</a></td>, <td><a href=\"/spa/aroma-therapy-cost-in-chennai/\" title=\"Aroma Therapy in Chennai\">Chennai</a></td>, <td><a href=\"/spa/aroma-therapy-cost-in-hyderabad/\" title=\"Aroma Therapy in Hyderabad\">Hyderabad</a></td>, <td><a href=\"/spa/aroma-therapy-cost-in-kolkata/\" title=\"Aroma Therapy in Kolkata\">Kolkata</a></td>, <td><a href=\"/spa/aroma-therapy-cost-in-mumbai/\" title=\"Aroma Therapy in Mumbai\">Mumbai</a></td>, <td><a href=\"/spa/aroma-therapy-cost-in-new-delhi/\" title=\"Aroma Therapy in New Delhi\">New Delhi</a></td>, <td><a href=\"/spa/aroma-therapy-cost-in-pune/\" title=\"Aroma Therapy in Pune\">Pune</a></td>]\n",
      "[<td>Rs. 2157.00</td>, <td>Rs. 3112.00</td>, <td>Rs. 2839.00</td>, <td>Rs. 2964.00</td>, <td>Rs. 3056.00</td>, <td>Rs. 2784.00</td>, <td>Rs. 2546.00</td>]\n",
      "[<td>Rs. 399.00</td>, <td>Rs. 399.00</td>, <td>Rs. 1399.00</td>, <td>Rs. 1500.00</td>, <td>Rs. 1000.00</td>, <td>Rs. 1200.00</td>, <td>Rs. 850.00</td>]\n",
      "[<td>Rs. 6500.00</td>, <td>Rs. 6500.00</td>, <td>Rs. 6600.00</td>, <td>Rs. 5400.00</td>, <td>Rs. 5750.00</td>, <td>Rs. 4200.00</td>, <td>Rs. 8500.00</td>]\n",
      "200\n",
      "[<td><a href=\"/spa/body-polishing-cost-in-bangalore/\" title=\"Body Polishing in Bangalore\">Bangalore</a></td>, <td><a href=\"/spa/body-polishing-cost-in-chennai/\" title=\"Body Polishing in Chennai\">Chennai</a></td>, <td><a href=\"/spa/body-polishing-cost-in-hyderabad/\" title=\"Body Polishing in Hyderabad\">Hyderabad</a></td>, <td><a href=\"/spa/body-polishing-cost-in-kolkata/\" title=\"Body Polishing in Kolkata\">Kolkata</a></td>, <td><a href=\"/spa/body-polishing-cost-in-mumbai/\" title=\"Body Polishing in Mumbai\">Mumbai</a></td>, <td><a href=\"/spa/body-polishing-cost-in-new-delhi/\" title=\"Body Polishing in New Delhi\">New Delhi</a></td>, <td><a href=\"/spa/body-polishing-cost-in-pune/\" title=\"Body Polishing in Pune\">Pune</a></td>]\n",
      "[<td>Rs. 2326.00</td>, <td>Rs. 2673.00</td>, <td>Rs. 2573.00</td>, <td>Rs. 3300.00</td>, <td>Rs. 3270.00</td>, <td>Rs. 3058.00</td>, <td>Rs. 2057.00</td>]\n",
      "[<td>Rs. 400.00</td>, <td>Rs. 350.00</td>, <td>Rs. 500.00</td>, <td>Rs. 1200.00</td>, <td>Rs. 500.00</td>, <td>Rs. 500.00</td>, <td>Rs. 150.00</td>]\n",
      "[<td>Rs. 6000.00</td>, <td>Rs. 8999.00</td>, <td>Rs. 6000.00</td>, <td>Rs. 4000.00</td>, <td>Rs. 12000.00</td>, <td>Rs. 6000.00</td>, <td>Rs. 6800.00</td>]\n",
      "200\n",
      "[<td><a href=\"/spa/body-scrub-cost-in-bangalore/\" title=\"Body Scrub in Bangalore\">Bangalore</a></td>, <td><a href=\"/spa/body-scrub-cost-in-chennai/\" title=\"Body Scrub in Chennai\">Chennai</a></td>, <td><a href=\"/spa/body-scrub-cost-in-hyderabad/\" title=\"Body Scrub in Hyderabad\">Hyderabad</a></td>, <td><a href=\"/spa/body-scrub-cost-in-kolkata/\" title=\"Body Scrub in Kolkata\">Kolkata</a></td>, <td><a href=\"/spa/body-scrub-cost-in-mumbai/\" title=\"Body Scrub in Mumbai\">Mumbai</a></td>, <td><a href=\"/spa/body-scrub-cost-in-new-delhi/\" title=\"Body Scrub in New Delhi\">New Delhi</a></td>, <td><a href=\"/spa/body-scrub-cost-in-pune/\" title=\"Body Scrub in Pune\">Pune</a></td>]\n",
      "[<td>Rs. 1679.00</td>, <td>Rs. 1920.00</td>, <td>Rs. 2353.00</td>, <td>Rs. 3075.00</td>, <td>Rs. 2330.00</td>, <td>Rs. 2118.00</td>, <td>Rs. 1906.00</td>]\n",
      "[<td>Rs. 300.00</td>, <td>Rs. 800.00</td>, <td>Rs. 1250.00</td>, <td>Rs. 2000.00</td>, <td>Rs. 999.00</td>, <td>Rs. 1000.00</td>, <td>Rs. 500.00</td>]\n",
      "[<td>Rs. 3199.00</td>, <td>Rs. 3199.00</td>, <td>Rs. 4098.00</td>, <td>Rs. 3500.00</td>, <td>Rs. 3650.00</td>, <td>Rs. 3650.00</td>, <td>Rs. 3999.00</td>]\n"
     ]
    },
    {
     "name": "stdout",
     "output_type": "stream",
     "text": [
      "200\n",
      "[<td><a href=\"/spa/facial-cost-in-bangalore/\" title=\"Facial in Bangalore\">Bangalore</a></td>, <td><a href=\"/spa/facial-cost-in-chennai/\" title=\"Facial in Chennai\">Chennai</a></td>, <td><a href=\"/spa/facial-cost-in-hyderabad/\" title=\"Facial in Hyderabad\">Hyderabad</a></td>, <td><a href=\"/spa/facial-cost-in-kolkata/\" title=\"Facial in Kolkata\">Kolkata</a></td>, <td><a href=\"/spa/facial-cost-in-mumbai/\" title=\"Facial in Mumbai\">Mumbai</a></td>, <td><a href=\"/spa/facial-cost-in-new-delhi/\" title=\"Facial in New Delhi\">New Delhi</a></td>, <td><a href=\"/spa/facial-cost-in-pune/\" title=\"Facial in Pune\">Pune</a></td>]\n",
      "[<td>Rs. 1450.00</td>, <td>Rs. 1958.00</td>, <td>Rs. 1933.00</td>, <td>Rs. 2718.00</td>, <td>Rs. 2221.00</td>, <td>Rs. 1727.00</td>, <td>Rs. 1893.00</td>]\n",
      "[<td>Rs. 150.00</td>, <td>Rs. 450.00</td>, <td>Rs. 250.00</td>, <td>Rs. 450.00</td>, <td>Rs. 80.00</td>, <td>Rs. 250.00</td>, <td>Rs. 225.00</td>]\n",
      "[<td>Rs. 6900.00</td>, <td>Rs. 7000.00</td>, <td>Rs. 5000.00</td>, <td>Rs. 5100.00</td>, <td>Rs. 8500.00</td>, <td>Rs. 7000.00</td>, <td>Rs. 8500.00</td>]\n",
      "200\n",
      "[<td><a href=\"/spa/manicure-cost-in-bangalore/\" title=\"Manicure in Bangalore\">Bangalore</a></td>, <td><a href=\"/spa/manicure-cost-in-chennai/\" title=\"Manicure in Chennai\">Chennai</a></td>, <td><a href=\"/spa/manicure-cost-in-hyderabad/\" title=\"Manicure in Hyderabad\">Hyderabad</a></td>, <td><a href=\"/spa/manicure-cost-in-kolkata/\" title=\"Manicure in Kolkata\">Kolkata</a></td>, <td><a href=\"/spa/manicure-cost-in-mumbai/\" title=\"Manicure in Mumbai\">Mumbai</a></td>, <td><a href=\"/spa/manicure-cost-in-new-delhi/\" title=\"Manicure in New Delhi\">New Delhi</a></td>, <td><a href=\"/spa/manicure-cost-in-pune/\" title=\"Manicure in Pune\">Pune</a></td>]\n",
      "[<td>Rs. 453.00</td>, <td>Rs. 571.00</td>, <td>Rs. 573.00</td>, <td>Rs. 506.00</td>, <td>Rs. 767.00</td>, <td>Rs. 561.00</td>, <td>Rs. 603.00</td>]\n",
      "[<td>Rs. 100.00</td>, <td>Rs. 70.00</td>, <td>Rs. 125.00</td>, <td>Rs. 100.00</td>, <td>Rs. 125.00</td>, <td>Rs. 300.00</td>, <td>Rs. 60.00</td>]\n",
      "[<td>Rs. 1600.00</td>, <td>Rs. 7000.00</td>, <td>Rs. 1350.00</td>, <td>Rs. 1550.00</td>, <td>Rs. 2700.00</td>, <td>Rs. 1550.00</td>, <td>Rs. 1550.00</td>]\n",
      "200\n",
      "[<td><a href=\"/spa/pedicure-cost-in-bangalore/\" title=\"Pedicure in Bangalore\">Bangalore</a></td>, <td><a href=\"/spa/pedicure-cost-in-chennai/\" title=\"Pedicure in Chennai\">Chennai</a></td>, <td><a href=\"/spa/pedicure-cost-in-hyderabad/\" title=\"Pedicure in Hyderabad\">Hyderabad</a></td>, <td><a href=\"/spa/pedicure-cost-in-kolkata/\" title=\"Pedicure in Kolkata\">Kolkata</a></td>, <td><a href=\"/spa/pedicure-cost-in-mumbai/\" title=\"Pedicure in Mumbai\">Mumbai</a></td>, <td><a href=\"/spa/pedicure-cost-in-new-delhi/\" title=\"Pedicure in New Delhi\">New Delhi</a></td>, <td><a href=\"/spa/pedicure-cost-in-pune/\" title=\"Pedicure in Pune\">Pune</a></td>]\n",
      "[<td>Rs. 583.00</td>, <td>Rs. 724.00</td>, <td>Rs. 635.00</td>, <td>Rs. 769.00</td>, <td>Rs. 857.00</td>, <td>Rs. 588.00</td>, <td>Rs. 744.00</td>]\n",
      "[<td>Rs. 100.00</td>, <td>Rs. 70.00</td>, <td>Rs. 125.00</td>, <td>Rs. 200.00</td>, <td>Rs. 125.00</td>, <td>Rs. 150.00</td>, <td>Rs. 125.00</td>]\n",
      "[<td>Rs. 1800.00</td>, <td>Rs. 2170.00</td>, <td>Rs. 1425.00</td>, <td>Rs. 1650.00</td>, <td>Rs. 2700.00</td>, <td>Rs. 1650.00</td>, <td>Rs. 2200.00</td>]\n",
      "200\n",
      "[<td><a href=\"/spa/head-massage-cost-in-bangalore/\" title=\"Head Massage in Bangalore\">Bangalore</a></td>, <td><a href=\"/spa/head-massage-cost-in-chennai/\" title=\"Head Massage in Chennai\">Chennai</a></td>, <td><a href=\"/spa/head-massage-cost-in-hyderabad/\" title=\"Head Massage in Hyderabad\">Hyderabad</a></td>, <td><a href=\"/spa/head-massage-cost-in-kolkata/\" title=\"Head Massage in Kolkata\">Kolkata</a></td>, <td><a href=\"/spa/head-massage-cost-in-mumbai/\" title=\"Head Massage in Mumbai\">Mumbai</a></td>, <td><a href=\"/spa/head-massage-cost-in-new-delhi/\" title=\"Head Massage in New Delhi\">New Delhi</a></td>, <td><a href=\"/spa/head-massage-cost-in-pune/\" title=\"Head Massage in Pune\">Pune</a></td>]\n",
      "[<td>Rs. 434.00</td>, <td>Rs. 609.00</td>, <td>Rs. 554.00</td>, <td>Rs. 814.00</td>, <td>Rs. 831.00</td>, <td>Rs. 805.00</td>, <td>Rs. 617.00</td>]\n",
      "[<td>Rs. 100.00</td>, <td>Rs. 200.00</td>, <td>Rs. 150.00</td>, <td>Rs. 250.00</td>, <td>Rs. 50.00</td>, <td>Rs. 200.00</td>, <td>Rs. 150.00</td>]\n",
      "[<td>Rs. 3000.00</td>, <td>Rs. 3000.00</td>, <td>Rs. 3000.00</td>, <td>Rs. 3000.00</td>, <td>Rs. 3100.00</td>, <td>Rs. 3000.00</td>, <td>Rs. 3000.00</td>]\n",
      "200\n",
      "[<td><a href=\"/spa/foot-massage-cost-in-bangalore/\" title=\"Foot Massage in Bangalore\">Bangalore</a></td>, <td><a href=\"/spa/foot-massage-cost-in-chennai/\" title=\"Foot Massage in Chennai\">Chennai</a></td>, <td><a href=\"/spa/foot-massage-cost-in-hyderabad/\" title=\"Foot Massage in Hyderabad\">Hyderabad</a></td>, <td><a href=\"/spa/foot-massage-cost-in-kolkata/\" title=\"Foot Massage in Kolkata\">Kolkata</a></td>, <td><a href=\"/spa/foot-massage-cost-in-mumbai/\" title=\"Foot Massage in Mumbai\">Mumbai</a></td>, <td><a href=\"/spa/foot-massage-cost-in-new-delhi/\" title=\"Foot Massage in New Delhi\">New Delhi</a></td>, <td><a href=\"/spa/foot-massage-cost-in-pune/\" title=\"Foot Massage in Pune\">Pune</a></td>]\n",
      "[<td>Rs. 680.00</td>, <td>Rs. 1235.00</td>, <td>Rs. 1073.00</td>, <td>Rs. 1769.00</td>, <td>Rs. 1232.00</td>, <td>Rs. 1126.00</td>, <td>Rs. 1014.00</td>]\n",
      "[<td>Rs. 150.00</td>, <td>Rs. 125.00</td>, <td>Rs. 299.00</td>, <td>Rs. 799.00</td>, <td>Rs. 200.00</td>, <td>Rs. 300.00</td>, <td>Rs. 200.00</td>]\n",
      "[<td>Rs. 2500.00</td>, <td>Rs. 3500.00</td>, <td>Rs. 3200.00</td>, <td>Rs. 5000.00</td>, <td>Rs. 3500.00</td>, <td>Rs. 4000.00</td>, <td>Rs. 2600.00</td>]\n",
      "200\n",
      "[<td><a href=\"/spa/back-massage-cost-in-bangalore/\" title=\"Back Massage in Bangalore\">Bangalore</a></td>, <td><a href=\"/spa/back-massage-cost-in-chennai/\" title=\"Back Massage in Chennai\">Chennai</a></td>, <td><a href=\"/spa/back-massage-cost-in-hyderabad/\" title=\"Back Massage in Hyderabad\">Hyderabad</a></td>, <td><a href=\"/spa/back-massage-cost-in-mumbai/\" title=\"Back Massage in Mumbai\">Mumbai</a></td>, <td><a href=\"/spa/back-massage-cost-in-new-delhi/\" title=\"Back Massage in New Delhi\">New Delhi</a></td>, <td><a href=\"/spa/back-massage-cost-in-pune/\" title=\"Back Massage in Pune\">Pune</a></td>]\n",
      "[<td>Rs. 870.00</td>, <td>Rs. 1325.00</td>, <td>Rs. 1671.00</td>, <td>Rs. 1231.00</td>, <td>Rs. 1308.00</td>, <td>Rs. 1212.00</td>]\n",
      "[<td>Rs. 250.00</td>, <td>Rs. 400.00</td>, <td>Rs. 400.00</td>, <td>Rs. 250.00</td>, <td>Rs. 750.00</td>, <td>Rs. 200.00</td>]\n",
      "[<td>Rs. 3000.00</td>, <td>Rs. 2100.00</td>, <td>Rs. 2500.00</td>, <td>Rs. 4500.00</td>, <td>Rs. 2500.00</td>, <td>Rs. 3600.00</td>]\n",
      "200\n"
     ]
    },
    {
     "ename": "IndexError",
     "evalue": "list index out of range",
     "output_type": "error",
     "traceback": [
      "\u001b[1;31m---------------------------------------------------------------------------\u001b[0m",
      "\u001b[1;31mIndexError\u001b[0m                                Traceback (most recent call last)",
      "\u001b[1;32m<ipython-input-29-a4b7d415544f>\u001b[0m in \u001b[0;36m<module>\u001b[1;34m\u001b[0m\n\u001b[0;32m     12\u001b[0m         \u001b[0mcity\u001b[0m\u001b[1;33m.\u001b[0m\u001b[0mappend\u001b[0m\u001b[1;33m(\u001b[0m\u001b[0mdata\u001b[0m\u001b[1;33m[\u001b[0m\u001b[1;36m0\u001b[0m\u001b[1;33m]\u001b[0m\u001b[1;33m)\u001b[0m\u001b[1;33m\u001b[0m\u001b[1;33m\u001b[0m\u001b[0m\n\u001b[0;32m     13\u001b[0m         \u001b[0mAverage_Price\u001b[0m\u001b[1;33m.\u001b[0m\u001b[0mappend\u001b[0m\u001b[1;33m(\u001b[0m\u001b[0mdata\u001b[0m\u001b[1;33m[\u001b[0m\u001b[1;36m1\u001b[0m\u001b[1;33m]\u001b[0m\u001b[1;33m)\u001b[0m\u001b[1;33m\u001b[0m\u001b[1;33m\u001b[0m\u001b[0m\n\u001b[1;32m---> 14\u001b[1;33m         \u001b[0mStarting_Price\u001b[0m\u001b[1;33m.\u001b[0m\u001b[0mappend\u001b[0m\u001b[1;33m(\u001b[0m\u001b[0mdata\u001b[0m\u001b[1;33m[\u001b[0m\u001b[1;36m2\u001b[0m\u001b[1;33m]\u001b[0m\u001b[1;33m)\u001b[0m\u001b[1;33m\u001b[0m\u001b[1;33m\u001b[0m\u001b[0m\n\u001b[0m\u001b[0;32m     15\u001b[0m         \u001b[0mPrice_Upto\u001b[0m\u001b[1;33m.\u001b[0m\u001b[0mappend\u001b[0m\u001b[1;33m(\u001b[0m\u001b[0mdata\u001b[0m\u001b[1;33m[\u001b[0m\u001b[1;36m3\u001b[0m\u001b[1;33m]\u001b[0m\u001b[1;33m)\u001b[0m\u001b[1;33m\u001b[0m\u001b[1;33m\u001b[0m\u001b[0m\n\u001b[0;32m     16\u001b[0m     \u001b[0mprint\u001b[0m\u001b[1;33m(\u001b[0m\u001b[0mcity\u001b[0m\u001b[1;33m)\u001b[0m\u001b[1;33m\u001b[0m\u001b[1;33m\u001b[0m\u001b[0m\n",
      "\u001b[1;31mIndexError\u001b[0m: list index out of range"
     ]
    }
   ],
   "source": [
    "for d in range(len(link_main)):\n",
    "    resp_1=requests.get(link_main[d])\n",
    "    print(resp_1.status_code)\n",
    "    soup_1=bs4.BeautifulSoup(resp_1.content,\"html5\")\n",
    "    table=soup_1.find_all(\"tr\")\n",
    "    city=[]\n",
    "    Average_Price=[]\n",
    "    Starting_Price=[]\n",
    "    Price_Upto=[]\n",
    "    for y in range (1,len(table)):\n",
    "        data=table[y].find_all(\"td\")\n",
    "        city.append(data[0])\n",
    "        Average_Price.append(data[1])\n",
    "        Starting_Price.append(data[2])\n",
    "        Price_Upto.append(data[3])\n",
    "    print(city)\n",
    "    print(Average_Price)\n",
    "    print(Starting_Price)\n",
    "    print(Price_Upto)\n",
    "    dic = {'city': city, 'Average_Price': Average_Price, 'Starting_Price': Starting_Price,\" Price_Upto\": Price_Upto}  \n",
    "       \n",
    "    df = pd.DataFrame(dic) \n",
    "\n",
    "    df.to_csv(f'spa{title[d]}.csv') "
   ]
  },
  {
   "cell_type": "code",
   "execution_count": null,
   "id": "e36b0171",
   "metadata": {},
   "outputs": [],
   "source": []
  },
  {
   "cell_type": "code",
   "execution_count": null,
   "id": "a74b77ec",
   "metadata": {},
   "outputs": [],
   "source": []
  },
  {
   "cell_type": "code",
   "execution_count": null,
   "id": "eac662d0",
   "metadata": {},
   "outputs": [],
   "source": []
  },
  {
   "cell_type": "code",
   "execution_count": null,
   "id": "7d9cc884",
   "metadata": {},
   "outputs": [],
   "source": []
  },
  {
   "cell_type": "code",
   "execution_count": null,
   "id": "322de993",
   "metadata": {},
   "outputs": [],
   "source": []
  },
  {
   "cell_type": "code",
   "execution_count": null,
   "id": "061e8a6a",
   "metadata": {},
   "outputs": [],
   "source": []
  }
 ],
 "metadata": {
  "kernelspec": {
   "display_name": "Python 3",
   "language": "python",
   "name": "python3"
  },
  "language_info": {
   "codemirror_mode": {
    "name": "ipython",
    "version": 3
   },
   "file_extension": ".py",
   "mimetype": "text/x-python",
   "name": "python",
   "nbconvert_exporter": "python",
   "pygments_lexer": "ipython3",
   "version": "3.8.8"
  }
 },
 "nbformat": 4,
 "nbformat_minor": 5
}
