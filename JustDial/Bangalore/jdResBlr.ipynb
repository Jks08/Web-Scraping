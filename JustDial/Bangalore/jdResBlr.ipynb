{
 "cells": [
  {
   "cell_type": "code",
   "execution_count": 3,
   "metadata": {},
   "outputs": [],
   "source": [
    "import selenium\n",
    "from selenium import webdriver\n",
    "from webdriver_manager.chrome import ChromeDriverManager\n",
    "import pandas as pd\n",
    "import time\n",
    "import os"
   ]
  },
  {
   "cell_type": "code",
   "execution_count": 4,
   "metadata": {},
   "outputs": [
    {
     "name": "stderr",
     "output_type": "stream",
     "text": [
      "C:\\Users\\astro\\AppData\\Local\\Temp/ipykernel_560/1600364765.py:1: DeprecationWarning: executable_path has been deprecated, please pass in a Service object\n",
      "  driver = webdriver.Chrome('D:/Software/chromedriver.exe')\n"
     ]
    }
   ],
   "source": [
    "driver = webdriver.Chrome('D:/Software/chromedriver.exe')"
   ]
  },
  {
   "cell_type": "code",
   "execution_count": 5,
   "metadata": {},
   "outputs": [],
   "source": [
    "driver.get(\"https://www.justdial.com/Bangalore/Restaurants/nct-10408936\")"
   ]
  },
  {
   "cell_type": "code",
   "execution_count": 6,
   "metadata": {},
   "outputs": [],
   "source": [
    "def string_to_num(argument):       \n",
    "    switcher = { \n",
    "        'dc': '+',\n",
    "        'fe': '(',\n",
    "        'hg': ')',\n",
    "        'ba': '-',\n",
    "        'acb': '0', \n",
    "        'yz': '1', \n",
    "        'wx': '2',\n",
    "        'vu': '3',\n",
    "        'ts': '4',\n",
    "        'rq': '5',\n",
    "        'po': '6',\n",
    "        'nm': '7',\n",
    "        'lk': '8',\n",
    "        'ji': '9'\n",
    "    } \n",
    "    return switcher.get(argument, \"nothing\")"
   ]
  },
  {
   "cell_type": "code",
   "execution_count": 7,
   "metadata": {},
   "outputs": [
    {
     "name": "stderr",
     "output_type": "stream",
     "text": [
      "C:\\Users\\astro\\AppData\\Local\\Temp/ipykernel_560/464620538.py:1: DeprecationWarning: find_elements_by_* commands are deprecated. Please use find_elements() instead\n",
      "  storeDetails = driver.find_elements_by_class_name('store-details') #store-details is the superclass containing all entries in justdial.\n"
     ]
    },
    {
     "name": "stdout",
     "output_type": "stream",
     "text": [
      "100\n"
     ]
    }
   ],
   "source": [
    "storeDetails = driver.find_elements_by_class_name('store-details') #store-details is the superclass containing all entries in justdial. \n",
    "print(len(storeDetails))                                           #Can be found using inspect element"
   ]
  },
  {
   "cell_type": "code",
   "execution_count": 9,
   "metadata": {},
   "outputs": [],
   "source": [
    "name_list = []\n",
    "address_list = []\n",
    "numbers_list = []  \n",
    "for i in range(len(storeDetails)):      \n",
    "    name = storeDetails[i].find_element_by_class_name('lng_cont_name').text\n",
    "    address = storeDetails[i].find_element_by_class_name('cont_sw_addr').text\n",
    "    contact_list = storeDetails[i].find_elements_by_class_name('mobilesv')      \n",
    "    my_list = []      \n",
    "    for j in range(len(contact_list)):          \n",
    "        myString = contact_list[j].get_attribute('class').split(\"-\")[1]      \n",
    "        my_list.append(string_to_num(myString))  \n",
    "    name_list.append(name)\n",
    "    address_list.append(address)\n",
    "    numbers_list.append(\"\".join(my_list))\n",
    "      \n",
    "data = {'Restaurant Name': name_list,\n",
    "        'Address': address_list,\n",
    "        'Phone No.': numbers_list\n",
    "}\n",
    "df = pd.DataFrame(data)"
   ]
  },
  {
   "cell_type": "code",
   "execution_count": 10,
   "metadata": {},
   "outputs": [
    {
     "data": {
      "text/html": [
       "<div>\n",
       "<style scoped>\n",
       "    .dataframe tbody tr th:only-of-type {\n",
       "        vertical-align: middle;\n",
       "    }\n",
       "\n",
       "    .dataframe tbody tr th {\n",
       "        vertical-align: top;\n",
       "    }\n",
       "\n",
       "    .dataframe thead th {\n",
       "        text-align: right;\n",
       "    }\n",
       "</style>\n",
       "<table border=\"1\" class=\"dataframe\">\n",
       "  <thead>\n",
       "    <tr style=\"text-align: right;\">\n",
       "      <th></th>\n",
       "      <th>Restaurant Name</th>\n",
       "      <th>Address</th>\n",
       "      <th>Phone No.</th>\n",
       "    </tr>\n",
       "  </thead>\n",
       "  <tbody>\n",
       "    <tr>\n",
       "      <th>0</th>\n",
       "      <td>Kandi Tree</td>\n",
       "      <td>4th Block, Jayanag.. |</td>\n",
       "      <td>07947155031</td>\n",
       "    </tr>\n",
       "    <tr>\n",
       "      <th>1</th>\n",
       "      <td>Bhukti Family Restaurant</td>\n",
       "      <td>BB Road, Devanahal.. |</td>\n",
       "      <td>07947297467</td>\n",
       "    </tr>\n",
       "    <tr>\n",
       "      <th>2</th>\n",
       "      <td>Sea Route</td>\n",
       "      <td>Rajajinagar, Rajaj.. |</td>\n",
       "      <td>07947157712</td>\n",
       "    </tr>\n",
       "    <tr>\n",
       "      <th>3</th>\n",
       "      <td>Esplanade - Calcutta Cuisin..</td>\n",
       "      <td>Double Road, Indir.. |</td>\n",
       "      <td>07947157065</td>\n",
       "    </tr>\n",
       "    <tr>\n",
       "      <th>4</th>\n",
       "      <td>Recipe Restaurant</td>\n",
       "      <td>50 Feet Road, Kuma.. |</td>\n",
       "      <td>07947156172</td>\n",
       "    </tr>\n",
       "    <tr>\n",
       "      <th>...</th>\n",
       "      <td>...</td>\n",
       "      <td>...</td>\n",
       "      <td>...</td>\n",
       "    </tr>\n",
       "    <tr>\n",
       "      <th>95</th>\n",
       "      <td>Food Junction Restaurant</td>\n",
       "      <td>Barabanki, Faizabad Road, Mun.. |</td>\n",
       "      <td>+(91)-9918200926</td>\n",
       "    </tr>\n",
       "    <tr>\n",
       "      <th>96</th>\n",
       "      <td>Toit Brew Pub</td>\n",
       "      <td>100, Indira Nagar .. |</td>\n",
       "      <td>+(91)-9019713388</td>\n",
       "    </tr>\n",
       "    <tr>\n",
       "      <th>97</th>\n",
       "      <td>Truffles</td>\n",
       "      <td>Layout, Koramangal.. |</td>\n",
       "      <td>+(91)-080-41466565</td>\n",
       "    </tr>\n",
       "    <tr>\n",
       "      <th>98</th>\n",
       "      <td>Barbeque Nation</td>\n",
       "      <td>100, Hal 2nd Stage.. |</td>\n",
       "      <td>+(91)-080-69028722</td>\n",
       "    </tr>\n",
       "    <tr>\n",
       "      <th>99</th>\n",
       "      <td>Vidyarthi Bhavan Restaurant</td>\n",
       "      <td>Bazar Main Road, B.. |</td>\n",
       "      <td>+(91)-080-26677588</td>\n",
       "    </tr>\n",
       "  </tbody>\n",
       "</table>\n",
       "<p>100 rows × 3 columns</p>\n",
       "</div>"
      ],
      "text/plain": [
       "                  Restaurant Name                            Address  \\\n",
       "0                      Kandi Tree             4th Block, Jayanag.. |   \n",
       "1        Bhukti Family Restaurant             BB Road, Devanahal.. |   \n",
       "2                       Sea Route             Rajajinagar, Rajaj.. |   \n",
       "3   Esplanade - Calcutta Cuisin..             Double Road, Indir.. |   \n",
       "4               Recipe Restaurant             50 Feet Road, Kuma.. |   \n",
       "..                            ...                                ...   \n",
       "95       Food Junction Restaurant  Barabanki, Faizabad Road, Mun.. |   \n",
       "96                  Toit Brew Pub             100, Indira Nagar .. |   \n",
       "97                       Truffles             Layout, Koramangal.. |   \n",
       "98                Barbeque Nation             100, Hal 2nd Stage.. |   \n",
       "99    Vidyarthi Bhavan Restaurant             Bazar Main Road, B.. |   \n",
       "\n",
       "             Phone No.  \n",
       "0          07947155031  \n",
       "1          07947297467  \n",
       "2          07947157712  \n",
       "3          07947157065  \n",
       "4          07947156172  \n",
       "..                 ...  \n",
       "95    +(91)-9918200926  \n",
       "96    +(91)-9019713388  \n",
       "97  +(91)-080-41466565  \n",
       "98  +(91)-080-69028722  \n",
       "99  +(91)-080-26677588  \n",
       "\n",
       "[100 rows x 3 columns]"
      ]
     },
     "execution_count": 10,
     "metadata": {},
     "output_type": "execute_result"
    }
   ],
   "source": [
    "df"
   ]
  },
  {
   "cell_type": "code",
   "execution_count": 11,
   "metadata": {},
   "outputs": [],
   "source": [
    "df.to_csv('Restaurants_in_Bangalore.csv', mode = 'w')"
   ]
  }
 ],
 "metadata": {
  "kernelspec": {
   "display_name": "Python 3 (ipykernel)",
   "language": "python",
   "name": "python3"
  },
  "language_info": {
   "codemirror_mode": {
    "name": "ipython",
    "version": 3
   },
   "file_extension": ".py",
   "mimetype": "text/x-python",
   "name": "python",
   "nbconvert_exporter": "python",
   "pygments_lexer": "ipython3",
   "version": "3.9.6"
  },
  "toc": {
   "base_numbering": 1,
   "nav_menu": {},
   "number_sections": true,
   "sideBar": true,
   "skip_h1_title": false,
   "title_cell": "Table of Contents",
   "title_sidebar": "Contents",
   "toc_cell": false,
   "toc_position": {},
   "toc_section_display": true,
   "toc_window_display": false
  }
 },
 "nbformat": 4,
 "nbformat_minor": 4
}
