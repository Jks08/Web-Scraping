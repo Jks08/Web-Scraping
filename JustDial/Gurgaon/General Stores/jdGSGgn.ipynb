{
 "cells": [
  {
   "cell_type": "code",
   "execution_count": 1,
   "metadata": {},
   "outputs": [],
   "source": [
    "import selenium\n",
    "from selenium import webdriver\n",
    "from webdriver_manager.chrome import ChromeDriverManager\n",
    "import pandas as pd\n",
    "import time\n",
    "import os"
   ]
  },
  {
   "cell_type": "code",
   "execution_count": 2,
   "metadata": {},
   "outputs": [
    {
     "name": "stderr",
     "output_type": "stream",
     "text": [
      "\n",
      "\n",
      "====== WebDriver manager ======\n",
      "Current google-chrome version is 94.0.4606\n",
      "Get LATEST driver version for 94.0.4606\n",
      "There is no [win32] chromedriver for browser 94.0.4606 in cache\n",
      "Get LATEST driver version for 94.0.4606\n",
      "Trying to download new driver from https://chromedriver.storage.googleapis.com/94.0.4606.61/chromedriver_win32.zip\n",
      "Driver has been saved in cache [C:\\Users\\astro\\.wdm\\drivers\\chromedriver\\win32\\94.0.4606.61]\n"
     ]
    }
   ],
   "source": [
    "driver = webdriver.Chrome(ChromeDriverManager().install())"
   ]
  },
  {
   "cell_type": "code",
   "execution_count": 3,
   "metadata": {},
   "outputs": [],
   "source": [
    "driver.get(\"https://www.justdial.com/Delhi/General-Stores-in-Gurgaon/nct-10227851\")"
   ]
  },
  {
   "cell_type": "code",
   "execution_count": 4,
   "metadata": {},
   "outputs": [],
   "source": [
    "def string_to_num(argument):       \n",
    "    switcher = { \n",
    "        'dc': '+',\n",
    "        'fe': '(',\n",
    "        'hg': ')',\n",
    "        'ba': '-',\n",
    "        'acb': '0', \n",
    "        'yz': '1', \n",
    "        'wx': '2',\n",
    "        'vu': '3',\n",
    "        'ts': '4',\n",
    "        'rq': '5',\n",
    "        'po': '6',\n",
    "        'nm': '7',\n",
    "        'lk': '8',\n",
    "        'ji': '9'\n",
    "    } \n",
    "    return switcher.get(argument, \"nothing\")"
   ]
  },
  {
   "cell_type": "code",
   "execution_count": 5,
   "metadata": {},
   "outputs": [
    {
     "name": "stdout",
     "output_type": "stream",
     "text": [
      "100\n"
     ]
    }
   ],
   "source": [
    "storeDetails = driver.find_elements_by_class_name('store-details') #store-details is the superclass containing all entries in justdial. \n",
    "print(len(storeDetails))                                           #Can be found using inspect element"
   ]
  },
  {
   "cell_type": "code",
   "execution_count": 6,
   "metadata": {},
   "outputs": [],
   "source": [
    "name_list = []\n",
    "address_list = []\n",
    "numbers_list = []  \n",
    "for i in range(len(storeDetails)):      \n",
    "    name = storeDetails[i].find_element_by_class_name('lng_cont_name').text\n",
    "    address = storeDetails[i].find_element_by_class_name('cont_sw_addr').text\n",
    "    contact_list = storeDetails[i].find_elements_by_class_name('mobilesv')      \n",
    "    my_list = []      \n",
    "    for j in range(len(contact_list)):          \n",
    "        myString = contact_list[j].get_attribute('class').split(\"-\")[1]      \n",
    "        my_list.append(string_to_num(myString))  \n",
    "    name_list.append(name)\n",
    "    address_list.append(address)\n",
    "    numbers_list.append(\"\".join(my_list))\n",
    "      \n",
    "data = {'Store Name': name_list,\n",
    "        'Address': address_list,\n",
    "        'Phone No.': numbers_list\n",
    "}\n",
    "df = pd.DataFrame(data)"
   ]
  },
  {
   "cell_type": "code",
   "execution_count": 7,
   "metadata": {},
   "outputs": [
    {
     "data": {
      "text/html": [
       "<div>\n",
       "<style scoped>\n",
       "    .dataframe tbody tr th:only-of-type {\n",
       "        vertical-align: middle;\n",
       "    }\n",
       "\n",
       "    .dataframe tbody tr th {\n",
       "        vertical-align: top;\n",
       "    }\n",
       "\n",
       "    .dataframe thead th {\n",
       "        text-align: right;\n",
       "    }\n",
       "</style>\n",
       "<table border=\"1\" class=\"dataframe\">\n",
       "  <thead>\n",
       "    <tr style=\"text-align: right;\">\n",
       "      <th></th>\n",
       "      <th>Hospital/Clinic Name</th>\n",
       "      <th>Address</th>\n",
       "      <th>Phone No.</th>\n",
       "    </tr>\n",
       "  </thead>\n",
       "  <tbody>\n",
       "    <tr>\n",
       "      <th>0</th>\n",
       "      <td>Max Super Marche</td>\n",
       "      <td>Aura Apartments, P.. |</td>\n",
       "      <td>+(91)-9599112207</td>\n",
       "    </tr>\n",
       "    <tr>\n",
       "      <th>1</th>\n",
       "      <td>Bhagwati Departmental Store</td>\n",
       "      <td>Kotak Mahindra, Gu.. |</td>\n",
       "      <td>+(91)-0124-2346575</td>\n",
       "    </tr>\n",
       "    <tr>\n",
       "      <th>2</th>\n",
       "      <td>Garg Dastak</td>\n",
       "      <td>Near Om Sweets, Gu.. |</td>\n",
       "      <td>+(91)-124-4034455</td>\n",
       "    </tr>\n",
       "    <tr>\n",
       "      <th>3</th>\n",
       "      <td>Rozana Mega Mart</td>\n",
       "      <td>Gurugram, .. |</td>\n",
       "      <td>+(91)-9871838202</td>\n",
       "    </tr>\n",
       "    <tr>\n",
       "      <th>4</th>\n",
       "      <td>Bandhu Super Mart</td>\n",
       "      <td>Palam Road, Palam .. |</td>\n",
       "      <td>+(91)-0124-2468133</td>\n",
       "    </tr>\n",
       "    <tr>\n",
       "      <th>...</th>\n",
       "      <td>...</td>\n",
       "      <td>...</td>\n",
       "      <td>...</td>\n",
       "    </tr>\n",
       "    <tr>\n",
       "      <th>95</th>\n",
       "      <td>Philip S General Store</td>\n",
       "      <td>Chakkarpur, Sushan.. |</td>\n",
       "      <td>+(91)-11-6451526</td>\n",
       "    </tr>\n",
       "    <tr>\n",
       "      <th>96</th>\n",
       "      <td>Jai Shree Shyam General Sto..</td>\n",
       "      <td>Main Market, Gurga.. |</td>\n",
       "      <td>+(91)-11-4259583</td>\n",
       "    </tr>\n",
       "    <tr>\n",
       "      <th>97</th>\n",
       "      <td>Apka Store</td>\n",
       "      <td>Games Park, Civil .. |</td>\n",
       "      <td>+(91)-0124-4144121</td>\n",
       "    </tr>\n",
       "    <tr>\n",
       "      <th>98</th>\n",
       "      <td>Om Shivay Kirana Store</td>\n",
       "      <td>Siv Mandir, Rajiv .. |</td>\n",
       "      <td>+(91)-9891855250</td>\n",
       "    </tr>\n",
       "    <tr>\n",
       "      <th>99</th>\n",
       "      <td>Six Ten</td>\n",
       "      <td>Huda Market, Gurga.. |</td>\n",
       "      <td>+(91)-8527663368</td>\n",
       "    </tr>\n",
       "  </tbody>\n",
       "</table>\n",
       "<p>100 rows × 3 columns</p>\n",
       "</div>"
      ],
      "text/plain": [
       "             Hospital/Clinic Name                 Address           Phone No.\n",
       "0                Max Super Marche  Aura Apartments, P.. |    +(91)-9599112207\n",
       "1     Bhagwati Departmental Store  Kotak Mahindra, Gu.. |  +(91)-0124-2346575\n",
       "2                     Garg Dastak  Near Om Sweets, Gu.. |   +(91)-124-4034455\n",
       "3                Rozana Mega Mart          Gurugram, .. |    +(91)-9871838202\n",
       "4               Bandhu Super Mart  Palam Road, Palam .. |  +(91)-0124-2468133\n",
       "..                            ...                     ...                 ...\n",
       "95         Philip S General Store  Chakkarpur, Sushan.. |    +(91)-11-6451526\n",
       "96  Jai Shree Shyam General Sto..  Main Market, Gurga.. |    +(91)-11-4259583\n",
       "97                     Apka Store  Games Park, Civil .. |  +(91)-0124-4144121\n",
       "98         Om Shivay Kirana Store  Siv Mandir, Rajiv .. |    +(91)-9891855250\n",
       "99                        Six Ten  Huda Market, Gurga.. |    +(91)-8527663368\n",
       "\n",
       "[100 rows x 3 columns]"
      ]
     },
     "execution_count": 7,
     "metadata": {},
     "output_type": "execute_result"
    }
   ],
   "source": [
    "df"
   ]
  },
  {
   "cell_type": "code",
   "execution_count": 8,
   "metadata": {},
   "outputs": [],
   "source": [
    "df.to_csv('General_Stores_in_Gurgaon.csv', mode = 'w')"
   ]
  },
  {
   "cell_type": "code",
   "execution_count": null,
   "metadata": {},
   "outputs": [],
   "source": []
  }
 ],
 "metadata": {
  "kernelspec": {
   "display_name": "Python 3",
   "language": "python",
   "name": "python3"
  },
  "language_info": {
   "codemirror_mode": {
    "name": "ipython",
    "version": 3
   },
   "file_extension": ".py",
   "mimetype": "text/x-python",
   "name": "python",
   "nbconvert_exporter": "python",
   "pygments_lexer": "ipython3",
   "version": "3.8.5"
  },
  "toc": {
   "base_numbering": 1,
   "nav_menu": {},
   "number_sections": true,
   "sideBar": true,
   "skip_h1_title": false,
   "title_cell": "Table of Contents",
   "title_sidebar": "Contents",
   "toc_cell": false,
   "toc_position": {},
   "toc_section_display": true,
   "toc_window_display": false
  }
 },
 "nbformat": 4,
 "nbformat_minor": 4
}
