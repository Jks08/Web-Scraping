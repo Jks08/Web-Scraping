{
 "cells": [
  {
   "cell_type": "code",
   "execution_count": 1,
   "metadata": {},
   "outputs": [],
   "source": [
    "import selenium\n",
    "from selenium import webdriver\n",
    "from webdriver_manager.chrome import ChromeDriverManager\n",
    "import pandas as pd\n",
    "import time\n",
    "import os"
   ]
  },
  {
   "cell_type": "code",
   "execution_count": 2,
   "metadata": {},
   "outputs": [
    {
     "name": "stderr",
     "output_type": "stream",
     "text": [
      "\n",
      "\n",
      "====== WebDriver manager ======\n",
      "Current google-chrome version is 92.0.4515\n",
      "Get LATEST driver version for 92.0.4515\n",
      "Get LATEST driver version for 92.0.4515\n",
      "Trying to download new driver from https://chromedriver.storage.googleapis.com/92.0.4515.107/chromedriver_win32.zip\n",
      "Driver has been saved in cache [C:\\Users\\astro\\.wdm\\drivers\\chromedriver\\win32\\92.0.4515.107]\n"
     ]
    }
   ],
   "source": [
    "driver = webdriver.Chrome(ChromeDriverManager().install())"
   ]
  },
  {
   "cell_type": "code",
   "execution_count": 3,
   "metadata": {},
   "outputs": [],
   "source": [
    "driver.get(\"https://www.justdial.com/Delhi/General-Physician-Doctors-in-Gurgaon/nct-10892680\")"
   ]
  },
  {
   "cell_type": "code",
   "execution_count": 4,
   "metadata": {},
   "outputs": [],
   "source": [
    "def string_to_num(argument):       \n",
    "    switcher = { \n",
    "        'dc': '+',\n",
    "        'fe': '(',\n",
    "        'hg': ')',\n",
    "        'ba': '-',\n",
    "        'acb': '0', \n",
    "        'yz': '1', \n",
    "        'wx': '2',\n",
    "        'vu': '3',\n",
    "        'ts': '4',\n",
    "        'rq': '5',\n",
    "        'po': '6',\n",
    "        'nm': '7',\n",
    "        'lk': '8',\n",
    "        'ji': '9'\n",
    "    } \n",
    "    return switcher.get(argument, \"nothing\")"
   ]
  },
  {
   "cell_type": "code",
   "execution_count": 5,
   "metadata": {},
   "outputs": [
    {
     "name": "stdout",
     "output_type": "stream",
     "text": [
      "100\n"
     ]
    }
   ],
   "source": [
    "storeDetails = driver.find_elements_by_class_name('store-details') #store-details is the superclass containing all entries in justdial. \n",
    "print(len(storeDetails))                                           #Can be found using inspect element"
   ]
  },
  {
   "cell_type": "code",
   "execution_count": 6,
   "metadata": {},
   "outputs": [
    {
     "name": "stdout",
     "output_type": "stream",
     "text": [
      "             Hospital/Clinic Name                 Address           Phone No.\n",
      "0   Fortis Memorial Research In..  Gurgaon Sector 44,.. |         07947212186\n",
      "1                   DR APURVA JHA  Near, Sushant Lok .. |         07947230931\n",
      "2   Dr. S K Kaushik (Dr. Kaushi..  Of Arcadia, Prem N.. |         07947259733\n",
      "3   Sabi Health Care Khan Clini..  Kanhai Village, Gu.. |         07947222593\n",
      "4                  Dr Kuldeep Raj  S Block, DLF City .. |         07947181535\n",
      "..                            ...                     ...                 ...\n",
      "95  Dr. Sanyams Nursing Home (D..  Chanakya Place, Ut.. |         07947072632\n",
      "96  Dr. Saloni Sinha Ear Nose a..  Budh Bazar Road, J.. |         07947225552\n",
      "97        Ardiv Homoeocare Clinic  Vasant Enclave, Va.. |    +(91)-8882488848\n",
      "98                Dr Nisha Leekha  & Corporation Bank.. |  +(91)-011-41655388\n",
      "99    Shree Vaishno Devi Hospital  Gurudwara Road, Mo.. |    +(91)-9911169065\n",
      "\n",
      "[100 rows x 3 columns]\n"
     ]
    }
   ],
   "source": [
    "name_list = []\n",
    "address_list = []\n",
    "numbers_list = []  \n",
    "for i in range(len(storeDetails)):      \n",
    "    name = storeDetails[i].find_element_by_class_name('lng_cont_name').text\n",
    "    address = storeDetails[i].find_element_by_class_name('cont_sw_addr').text\n",
    "    contact_list = storeDetails[i].find_elements_by_class_name('mobilesv')      \n",
    "    my_list = []      \n",
    "    for j in range(len(contact_list)):          \n",
    "        myString = contact_list[j].get_attribute('class').split(\"-\")[1]      \n",
    "        my_list.append(string_to_num(myString))  \n",
    "    name_list.append(name)\n",
    "    address_list.append(address)\n",
    "    numbers_list.append(\"\".join(my_list))\n",
    "      \n",
    "data = {'Hospital/Clinic Name': name_list,\n",
    "        'Address': address_list,\n",
    "        'Phone No.': numbers_list\n",
    "}\n",
    "df = pd.DataFrame(data)"
   ]
  },
  {
   "cell_type": "code",
   "execution_count": 14,
   "metadata": {},
   "outputs": [
    {
     "data": {
      "text/html": [
       "<div>\n",
       "<style scoped>\n",
       "    .dataframe tbody tr th:only-of-type {\n",
       "        vertical-align: middle;\n",
       "    }\n",
       "\n",
       "    .dataframe tbody tr th {\n",
       "        vertical-align: top;\n",
       "    }\n",
       "\n",
       "    .dataframe thead th {\n",
       "        text-align: right;\n",
       "    }\n",
       "</style>\n",
       "<table border=\"1\" class=\"dataframe\">\n",
       "  <thead>\n",
       "    <tr style=\"text-align: right;\">\n",
       "      <th></th>\n",
       "      <th>Hospital/Clinic Name</th>\n",
       "      <th>Address</th>\n",
       "      <th>Phone No.</th>\n",
       "    </tr>\n",
       "  </thead>\n",
       "  <tbody>\n",
       "    <tr>\n",
       "      <th>0</th>\n",
       "      <td>Fortis Memorial Research In..</td>\n",
       "      <td>Gurgaon Sector 44,.. |</td>\n",
       "      <td>07947212186</td>\n",
       "    </tr>\n",
       "    <tr>\n",
       "      <th>1</th>\n",
       "      <td>DR APURVA JHA</td>\n",
       "      <td>Near, Sushant Lok .. |</td>\n",
       "      <td>07947230931</td>\n",
       "    </tr>\n",
       "    <tr>\n",
       "      <th>2</th>\n",
       "      <td>Dr. S K Kaushik (Dr. Kaushi..</td>\n",
       "      <td>Of Arcadia, Prem N.. |</td>\n",
       "      <td>07947259733</td>\n",
       "    </tr>\n",
       "    <tr>\n",
       "      <th>3</th>\n",
       "      <td>Sabi Health Care Khan Clini..</td>\n",
       "      <td>Kanhai Village, Gu.. |</td>\n",
       "      <td>07947222593</td>\n",
       "    </tr>\n",
       "    <tr>\n",
       "      <th>4</th>\n",
       "      <td>Dr Kuldeep Raj</td>\n",
       "      <td>S Block, DLF City .. |</td>\n",
       "      <td>07947181535</td>\n",
       "    </tr>\n",
       "    <tr>\n",
       "      <th>...</th>\n",
       "      <td>...</td>\n",
       "      <td>...</td>\n",
       "      <td>...</td>\n",
       "    </tr>\n",
       "    <tr>\n",
       "      <th>95</th>\n",
       "      <td>Dr. Sanyams Nursing Home (D..</td>\n",
       "      <td>Chanakya Place, Ut.. |</td>\n",
       "      <td>07947072632</td>\n",
       "    </tr>\n",
       "    <tr>\n",
       "      <th>96</th>\n",
       "      <td>Dr. Saloni Sinha Ear Nose a..</td>\n",
       "      <td>Budh Bazar Road, J.. |</td>\n",
       "      <td>07947225552</td>\n",
       "    </tr>\n",
       "    <tr>\n",
       "      <th>97</th>\n",
       "      <td>Ardiv Homoeocare Clinic</td>\n",
       "      <td>Vasant Enclave, Va.. |</td>\n",
       "      <td>+(91)-8882488848</td>\n",
       "    </tr>\n",
       "    <tr>\n",
       "      <th>98</th>\n",
       "      <td>Dr Nisha Leekha</td>\n",
       "      <td>&amp; Corporation Bank.. |</td>\n",
       "      <td>+(91)-011-41655388</td>\n",
       "    </tr>\n",
       "    <tr>\n",
       "      <th>99</th>\n",
       "      <td>Shree Vaishno Devi Hospital</td>\n",
       "      <td>Gurudwara Road, Mo.. |</td>\n",
       "      <td>+(91)-9911169065</td>\n",
       "    </tr>\n",
       "  </tbody>\n",
       "</table>\n",
       "<p>100 rows × 3 columns</p>\n",
       "</div>"
      ],
      "text/plain": [
       "             Hospital/Clinic Name                 Address           Phone No.\n",
       "0   Fortis Memorial Research In..  Gurgaon Sector 44,.. |         07947212186\n",
       "1                   DR APURVA JHA  Near, Sushant Lok .. |         07947230931\n",
       "2   Dr. S K Kaushik (Dr. Kaushi..  Of Arcadia, Prem N.. |         07947259733\n",
       "3   Sabi Health Care Khan Clini..  Kanhai Village, Gu.. |         07947222593\n",
       "4                  Dr Kuldeep Raj  S Block, DLF City .. |         07947181535\n",
       "..                            ...                     ...                 ...\n",
       "95  Dr. Sanyams Nursing Home (D..  Chanakya Place, Ut.. |         07947072632\n",
       "96  Dr. Saloni Sinha Ear Nose a..  Budh Bazar Road, J.. |         07947225552\n",
       "97        Ardiv Homoeocare Clinic  Vasant Enclave, Va.. |    +(91)-8882488848\n",
       "98                Dr Nisha Leekha  & Corporation Bank.. |  +(91)-011-41655388\n",
       "99    Shree Vaishno Devi Hospital  Gurudwara Road, Mo.. |    +(91)-9911169065\n",
       "\n",
       "[100 rows x 3 columns]"
      ]
     },
     "execution_count": 14,
     "metadata": {},
     "output_type": "execute_result"
    }
   ],
   "source": [
    "df"
   ]
  },
  {
   "cell_type": "code",
   "execution_count": 17,
   "metadata": {},
   "outputs": [],
   "source": [
    "df.to_csv('Doctor_Details_in_Gurgaon(Jishnu).csv', mode = 'w')"
   ]
  }
 ],
 "metadata": {
  "kernelspec": {
   "display_name": "Python 3",
   "language": "python",
   "name": "python3"
  },
  "language_info": {
   "codemirror_mode": {
    "name": "ipython",
    "version": 3
   },
   "file_extension": ".py",
   "mimetype": "text/x-python",
   "name": "python",
   "nbconvert_exporter": "python",
   "pygments_lexer": "ipython3",
   "version": "3.8.5"
  },
  "toc": {
   "base_numbering": 1,
   "nav_menu": {},
   "number_sections": true,
   "sideBar": true,
   "skip_h1_title": false,
   "title_cell": "Table of Contents",
   "title_sidebar": "Contents",
   "toc_cell": false,
   "toc_position": {},
   "toc_section_display": true,
   "toc_window_display": false
  }
 },
 "nbformat": 4,
 "nbformat_minor": 4
}
