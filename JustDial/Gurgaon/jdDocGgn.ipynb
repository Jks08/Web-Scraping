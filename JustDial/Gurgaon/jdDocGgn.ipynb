import selenium
from selenium import webdriver
from webdriver_manager.chrome import ChromeDriverManager
import pandas as pd
import time
import os

driver = webdriver.Chrome(ChromeDriverManager().install())

driver.get("https://www.justdial.com/Delhi/General-Physician-Doctors-in-Gurgaon/nct-10892680")

