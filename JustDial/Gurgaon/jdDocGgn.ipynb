import selenium
from selenium import webdriver
from webdriver_manager.chrome import ChromeDriverManager
import pandas as pd
import time
import os

driver = webdriver.Chrome(ChromeDriverManager().install())

driver.get("https://www.justdial.com/Delhi/General-Physician-Doctors-in-Gurgaon/nct-10892680")

def string_to_num(argument):       
    switcher = { 
        'dc': '+',
        'fe': '(',
        'hg': ')',
        'ba': '-',
        'acb': '0', 
        'yz': '1', 
        'wx': '2',
        'vu': '3',
        'ts': '4',
        'rq': '5',
        'po': '6',
        'nm': '7',
        'lk': '8',
        'ji': '9'
    } 
    return switcher.get(argument, "nothing")

storeDetails = driver.find_elements_by_class_name('store-details') #store-details is the superclass containing all entries in justdial. 
print(len(storeDetails))                                           #Can be found using inspect element

name_list = []
address_list = []
numbers_list = []  
for i in range(len(storeDetails)):      
    name = storeDetails[i].find_element_by_class_name('lng_cont_name').text
    address = storeDetails[i].find_element_by_class_name('cont_sw_addr').text
    contact_list = storeDetails[i].find_elements_by_class_name('mobilesv')      
    my_list = []      
    for j in range(len(contact_list)):          
        myString = contact_list[j].get_attribute('class').split("-")[1]      
        my_list.append(string_to_num(myString))  
    name_list.append(name)
    address_list.append(address)
    numbers_list.append("".join(my_list))
      
data = {'Hospital/Clinic Name': name_list,
        'Address': address_list,
        'Phone No.': numbers_list
}
df = pd.DataFrame(data)

df.to_csv('Doctor_Details_in_Gurgaon.csv', mode = 'w')
